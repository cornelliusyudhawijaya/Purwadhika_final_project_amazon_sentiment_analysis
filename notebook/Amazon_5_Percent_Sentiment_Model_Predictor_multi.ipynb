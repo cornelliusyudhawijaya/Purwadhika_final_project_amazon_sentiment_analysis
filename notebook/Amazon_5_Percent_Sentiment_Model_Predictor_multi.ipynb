{
 "cells": [
  {
   "cell_type": "code",
   "execution_count": 1,
   "metadata": {
    "ExecuteTime": {
     "end_time": "2019-05-22T17:19:00.710621Z",
     "start_time": "2019-05-22T17:18:58.923346Z"
    }
   },
   "outputs": [
    {
     "name": "stderr",
     "output_type": "stream",
     "text": [
      "C:\\Users\\MSI\\Anaconda3\\lib\\site-packages\\tqdm\\autonotebook\\__init__.py:14: TqdmExperimentalWarning: Using `tqdm.autonotebook.tqdm` in notebook mode. Use `tqdm.tqdm` instead to force console mode (e.g. in jupyter console)\n",
      "  \" (e.g. in jupyter console)\", TqdmExperimentalWarning)\n"
     ]
    }
   ],
   "source": [
    "import pandas as pd\n",
    "import numpy as np\n",
    "import seaborn as sns\n",
    "import matplotlib.pyplot as plt\n",
    "\n",
    "import re\n",
    "import nltk\n",
    "from nltk.corpus import stopwords \n",
    "from nltk.tokenize import word_tokenize\n",
    "%matplotlib inline\n"
   ]
  },
  {
   "cell_type": "code",
   "execution_count": 2,
   "metadata": {
    "ExecuteTime": {
     "end_time": "2019-05-22T17:19:01.686264Z",
     "start_time": "2019-05-22T17:19:00.711599Z"
    }
   },
   "outputs": [],
   "source": [
    "amazon = pd.read_csv('amazon_5_percent.csv')"
   ]
  },
  {
   "cell_type": "markdown",
   "metadata": {},
   "source": [
    "## Processing the word once more"
   ]
  },
  {
   "cell_type": "code",
   "execution_count": 7,
   "metadata": {
    "ExecuteTime": {
     "end_time": "2019-05-22T17:19:02.014130Z",
     "start_time": "2019-05-22T17:19:01.822616Z"
    }
   },
   "outputs": [],
   "source": [
    "amazon['Title'] = amazon['Title'].astype('str')\n",
    "amazon['Review'] = amazon['Review'].astype('str')\n",
    "amazon['Title_length'] = amazon['Title'].apply(lambda x: len(x))\n",
    "amazon['Review_length'] = amazon['Review'].apply(lambda x: len(x))"
   ]
  },
  {
   "cell_type": "code",
   "execution_count": 8,
   "metadata": {
    "ExecuteTime": {
     "end_time": "2019-05-22T17:19:07.879432Z",
     "start_time": "2019-05-22T17:19:02.015105Z"
    }
   },
   "outputs": [],
   "source": [
    "title_word = []\n",
    "review_word = []\n",
    "\n",
    "def all_word(word, list_basket):\n",
    "    letters_only = re.sub(\"[^a-zA-Z]\", \" \", word)\n",
    "    words = letters_only.lower().split()\n",
    "    list_basket.extend(words)\n",
    "    return (\" \".join(words))\n",
    "\n",
    "amazon['Title_no_punc'] = amazon['Title'].apply(lambda x: all_word(x, title_word))\n",
    "amazon['Review_no_punc'] = amazon['Review'].apply(lambda x: all_word(x, review_word))      "
   ]
  },
  {
   "cell_type": "code",
   "execution_count": 9,
   "metadata": {
    "ExecuteTime": {
     "end_time": "2019-05-22T17:19:08.757096Z",
     "start_time": "2019-05-22T17:19:07.880411Z"
    }
   },
   "outputs": [],
   "source": [
    "amazon['Title_sentence_wo_punc'] = amazon['Title'].apply(lambda x: len(x.split()))\n",
    "amazon['Review_sentence_wo_punc'] = amazon['Review'].apply(lambda x: len(x.split()))"
   ]
  },
  {
   "cell_type": "code",
   "execution_count": 26,
   "metadata": {
    "ExecuteTime": {
     "end_time": "2019-05-22T17:19:16.859392Z",
     "start_time": "2019-05-22T17:19:16.633008Z"
    }
   },
   "outputs": [],
   "source": [
    "stops = list(stopwords.words(\"english\"))\n",
    "title_word = []\n",
    "review_word = []\n",
    "def meaningful_word_specific(word, list_basket):\n",
    "    words = word.split()   \n",
    "    meaningful_words = [w for w in words if not w in stops] \n",
    "    list_basket.extend(meaningful_words)\n",
    "    return( \" \".join( meaningful_words )) "
   ]
  },
  {
   "cell_type": "code",
   "execution_count": 27,
   "metadata": {
    "ExecuteTime": {
     "end_time": "2019-05-22T17:19:35.496561Z",
     "start_time": "2019-05-22T17:19:16.860389Z"
    }
   },
   "outputs": [],
   "source": [
    "amazon['Title_meaningful'] = amazon['Title_no_punc'].apply(lambda x: meaningful_word_specific(x, title_word))\n",
    "amazon['Review_meaningful'] = amazon['Review_no_punc'].apply(lambda x: meaningful_word_specific(x, review_word))"
   ]
  },
  {
   "cell_type": "code",
   "execution_count": 57,
   "metadata": {
    "ExecuteTime": {
     "end_time": "2019-05-22T17:20:16.314926Z",
     "start_time": "2019-05-22T17:20:02.612544Z"
    }
   },
   "outputs": [],
   "source": [
    "stops.extend(['book', 'product', 'movie', 'music', 'album', 'cd'])\n",
    "\n",
    "def meaningful_word_specific(word):\n",
    "    words = word.split()   \n",
    "    meaningful_words = [w for w in words if not w in stops] \n",
    "    return( \" \".join( meaningful_words )) \n",
    "\n",
    "amazon['Title_meaningful'] = amazon['Title_meaningful'].apply(lambda x: meaningful_word_specific(x))\n",
    "amazon['Review_meaningful'] = amazon['Review_meaningful'].apply(lambda x: meaningful_word_specific(x))"
   ]
  },
  {
   "cell_type": "code",
   "execution_count": 58,
   "metadata": {
    "ExecuteTime": {
     "end_time": "2019-05-22T17:20:24.642612Z",
     "start_time": "2019-05-22T17:20:16.315919Z"
    }
   },
   "outputs": [],
   "source": [
    "amazon['Combination_meaningful'] = amazon[['Title_meaningful',\n",
    "                                'Review_meaningful']].apply(lambda x:(x['Title_meaningful'] +' '+ x['Review_meaningful']) , axis = 1)\n",
    "amazon['Combination_no_punc'] = amazon[['Title_no_punc',\n",
    "                                'Review_no_punc']].apply(lambda x:(x['Title_no_punc'] +' '+ x['Review_no_punc']) , axis = 1)\n",
    "amazon['Combination_all'] = amazon[['Title',\n",
    "                                'Review']].apply(lambda x:(x['Title'] +' '+ x['Review']) , axis = 1)"
   ]
  },
  {
   "cell_type": "code",
   "execution_count": 59,
   "metadata": {
    "ExecuteTime": {
     "end_time": "2019-05-22T17:20:24.648598Z",
     "start_time": "2019-05-22T17:20:24.643651Z"
    }
   },
   "outputs": [],
   "source": [
    "def sentiment(rating):\n",
    "    if (rating == 1) or (rating == 2):\n",
    "        return 'Negative'\n",
    "    elif rating == 3:\n",
    "        return 'Neutral'\n",
    "    else:\n",
    "        return 'Positive'"
   ]
  },
  {
   "cell_type": "code",
   "execution_count": 60,
   "metadata": {
    "ExecuteTime": {
     "end_time": "2019-05-22T17:20:24.929877Z",
     "start_time": "2019-05-22T17:20:24.651589Z"
    }
   },
   "outputs": [
    {
     "data": {
      "application/vnd.jupyter.widget-view+json": {
       "model_id": "5dafcb135f94487b9981da284d64d78d",
       "version_major": 2,
       "version_minor": 0
      },
      "text/plain": [
       "HBox(children=(IntProgress(value=0, description='Pandas Apply', max=182498, style=ProgressStyle(description_wi…"
      ]
     },
     "metadata": {},
     "output_type": "display_data"
    },
    {
     "name": "stdout",
     "output_type": "stream",
     "text": [
      "\n"
     ]
    }
   ],
   "source": [
    "amazon['Sentiment'] = amazon['Rating'].apply(sentiment)"
   ]
  },
  {
   "cell_type": "markdown",
   "metadata": {},
   "source": [
    "For Machine Learning analysis, the class for some model need to be in the form of Integer type"
   ]
  },
  {
   "cell_type": "code",
   "execution_count": 72,
   "metadata": {
    "ExecuteTime": {
     "end_time": "2019-05-22T17:21:50.986000Z",
     "start_time": "2019-05-22T17:21:50.849334Z"
    }
   },
   "outputs": [],
   "source": [
    "def change_sentiment(word):\n",
    "    if word == 'Positive':\n",
    "        return 2\n",
    "    elif word == 'Neutral':\n",
    "        return 1\n",
    "    else:\n",
    "        return 0\n",
    "    \n",
    "amazon['Sentiment'] = amazon['Sentiment'].apply(change_sentiment)"
   ]
  },
  {
   "cell_type": "markdown",
   "metadata": {},
   "source": [
    "## Predict multi class (Positive, Neutral, Negative)"
   ]
  },
  {
   "cell_type": "markdown",
   "metadata": {},
   "source": [
    "## Bag-of-Word Model, Classified by various model"
   ]
  },
  {
   "cell_type": "code",
   "execution_count": 67,
   "metadata": {
    "ExecuteTime": {
     "end_time": "2019-05-22T17:20:25.650951Z",
     "start_time": "2019-05-22T17:20:25.607033Z"
    }
   },
   "outputs": [],
   "source": [
    "from sklearn.linear_model import LogisticRegression\n",
    "from sklearn.feature_extraction.text import CountVectorizer, TfidfTransformer\n",
    "from sklearn.model_selection import train_test_split\n",
    "from sklearn.naive_bayes import MultinomialNB\n",
    "from sklearn.ensemble import RandomForestClassifier\n",
    "from sklearn.pipeline import Pipeline\n",
    "from sklearn.metrics import classification_report, confusion_matrix, accuracy_score, f1_score, log_loss\n",
    "from mord import LogisticAT"
   ]
  },
  {
   "cell_type": "code",
   "execution_count": 74,
   "metadata": {
    "ExecuteTime": {
     "end_time": "2019-05-22T17:23:03.089480Z",
     "start_time": "2019-05-22T17:23:02.979768Z"
    }
   },
   "outputs": [],
   "source": [
    "X_train_title, X_test_title, y_train_title, y_test_title = train_test_split(amazon['Title_meaningful'],\n",
    "                                                                             amazon['Sentiment'], test_size = 0.2)\n",
    "X_train_review, X_test_review, y_train_review, y_test_review = train_test_split(amazon['Review_meaningful'],\n",
    "                                                                             amazon['Sentiment'], test_size = 0.2)\n",
    "X_train_combination, X_test_combination, y_train_combination, y_test_combination = train_test_split(amazon['Combination_meaningful'],\n",
    "                                                                             amazon['Sentiment'], test_size = 0.2)"
   ]
  },
  {
   "cell_type": "markdown",
   "metadata": {},
   "source": [
    "## Testing the multiclass classifier model"
   ]
  },
  {
   "cell_type": "code",
   "execution_count": 69,
   "metadata": {
    "ExecuteTime": {
     "end_time": "2019-05-22T17:20:25.750679Z",
     "start_time": "2019-05-22T17:20:25.746659Z"
    }
   },
   "outputs": [],
   "source": [
    "model_1vR = LogisticRegression(multi_class='ovr', class_weight='balanced')\n",
    "model_multi = LogisticRegression(multi_class='multinomial', solver='lbfgs', class_weight='balanced')\n",
    "model_ordinal = LogisticAT(alpha=0)\n",
    "model_rfc = RandomForestClassifier(n_estimators = 100)\n",
    "model_NB = MultinomialNB()\n",
    "\n",
    "model_list = [model_1vR, model_multi, model_ordinal, model_rfc, model_NB]"
   ]
  },
  {
   "cell_type": "code",
   "execution_count": 70,
   "metadata": {
    "ExecuteTime": {
     "end_time": "2019-05-22T17:20:25.765637Z",
     "start_time": "2019-05-22T17:20:25.751645Z"
    },
    "code_folding": [
     0,
     15
    ]
   },
   "outputs": [],
   "source": [
    "def calc_train_error(X_train, y_train, model):\n",
    "    predictions = model.predict(X_train)\n",
    "    predictProba = model.predict_proba(X_train)\n",
    "    f1 = f1_score(y_train, predictions, average ='macro')\n",
    "    report = classification_report(y_train, predictions)\n",
    "    accuracy = accuracy_score(y_train, predictions)\n",
    "    confMatrix = confusion_matrix(y_train, predictions)\n",
    "    logloss = log_loss(y_train,predictProba)\n",
    "    return{\n",
    "        'report' : report, \n",
    "        'f1' : f1,\n",
    "        'accuracy': accuracy,\n",
    "        'confusion': confMatrix,\n",
    "        'logloss' : logloss\n",
    "    }\n",
    "def calc_validation_error(X_test, y_test, model):\n",
    "    predictions = model.predict(X_test)\n",
    "    predictProba = model.predict_proba(X_test)\n",
    "    f1 = f1_score(y_test, predictions, average ='macro')\n",
    "    report = classification_report(y_test, predictions)\n",
    "    accuracy = accuracy_score(y_test, predictions)\n",
    "    confMatrix = confusion_matrix(y_test, predictions)\n",
    "    logloss = log_loss(y_test,predictProba)\n",
    "    return{\n",
    "        'report' : report, \n",
    "        'f1' : f1,\n",
    "        'accuracy': accuracy,\n",
    "        'confusion': confMatrix,\n",
    "        'logloss' : logloss\n",
    "    }\n",
    "def calc_metrics(X_train, y_train, X_test, y_test, model):\n",
    "    model.fit(X_train, y_train)\n",
    "    train_error = calc_train_error(X_train, y_train, model)\n",
    "    validation_error = calc_validation_error(X_test, y_test, model)\n",
    "    return train_error, validation_error"
   ]
  },
  {
   "cell_type": "markdown",
   "metadata": {},
   "source": [
    "## Testing various gram scenario with various feature"
   ]
  },
  {
   "cell_type": "code",
   "execution_count": 75,
   "metadata": {
    "ExecuteTime": {
     "end_time": "2019-05-22T18:35:22.235010Z",
     "start_time": "2019-05-22T17:23:31.124472Z"
    }
   },
   "outputs": [
    {
     "name": "stderr",
     "output_type": "stream",
     "text": [
      "C:\\Users\\MSI\\Anaconda3\\lib\\site-packages\\sklearn\\linear_model\\logistic.py:433: FutureWarning: Default solver will be changed to 'lbfgs' in 0.22. Specify a solver to silence this warning.\n",
      "  FutureWarning)\n",
      "C:\\Users\\MSI\\Anaconda3\\lib\\site-packages\\sklearn\\linear_model\\logistic.py:758: ConvergenceWarning: lbfgs failed to converge. Increase the number of iterations.\n",
      "  \"of iterations.\", ConvergenceWarning)\n",
      "C:\\Users\\MSI\\Anaconda3\\lib\\site-packages\\sklearn\\linear_model\\logistic.py:433: FutureWarning: Default solver will be changed to 'lbfgs' in 0.22. Specify a solver to silence this warning.\n",
      "  FutureWarning)\n",
      "C:\\Users\\MSI\\Anaconda3\\lib\\site-packages\\sklearn\\linear_model\\logistic.py:758: ConvergenceWarning: lbfgs failed to converge. Increase the number of iterations.\n",
      "  \"of iterations.\", ConvergenceWarning)\n",
      "C:\\Users\\MSI\\Anaconda3\\lib\\site-packages\\sklearn\\linear_model\\logistic.py:433: FutureWarning: Default solver will be changed to 'lbfgs' in 0.22. Specify a solver to silence this warning.\n",
      "  FutureWarning)\n",
      "C:\\Users\\MSI\\Anaconda3\\lib\\site-packages\\sklearn\\linear_model\\logistic.py:758: ConvergenceWarning: lbfgs failed to converge. Increase the number of iterations.\n",
      "  \"of iterations.\", ConvergenceWarning)\n",
      "C:\\Users\\MSI\\Anaconda3\\lib\\site-packages\\sklearn\\linear_model\\logistic.py:433: FutureWarning: Default solver will be changed to 'lbfgs' in 0.22. Specify a solver to silence this warning.\n",
      "  FutureWarning)\n",
      "C:\\Users\\MSI\\Anaconda3\\lib\\site-packages\\sklearn\\linear_model\\logistic.py:758: ConvergenceWarning: lbfgs failed to converge. Increase the number of iterations.\n",
      "  \"of iterations.\", ConvergenceWarning)\n",
      "C:\\Users\\MSI\\Anaconda3\\lib\\site-packages\\sklearn\\linear_model\\logistic.py:433: FutureWarning: Default solver will be changed to 'lbfgs' in 0.22. Specify a solver to silence this warning.\n",
      "  FutureWarning)\n",
      "C:\\Users\\MSI\\Anaconda3\\lib\\site-packages\\sklearn\\linear_model\\logistic.py:758: ConvergenceWarning: lbfgs failed to converge. Increase the number of iterations.\n",
      "  \"of iterations.\", ConvergenceWarning)\n",
      "C:\\Users\\MSI\\Anaconda3\\lib\\site-packages\\sklearn\\linear_model\\logistic.py:433: FutureWarning: Default solver will be changed to 'lbfgs' in 0.22. Specify a solver to silence this warning.\n",
      "  FutureWarning)\n",
      "C:\\Users\\MSI\\Anaconda3\\lib\\site-packages\\sklearn\\linear_model\\logistic.py:758: ConvergenceWarning: lbfgs failed to converge. Increase the number of iterations.\n",
      "  \"of iterations.\", ConvergenceWarning)\n"
     ]
    }
   ],
   "source": [
    "gram_no_tfidf_title = []\n",
    "gram_tfidf_title = []\n",
    "\n",
    "for num in range(1, 4):    \n",
    "    def pipeline_no_tfidf(X_train, X_test, y_train, y_test):\n",
    "        train_errors = []\n",
    "        test_errors = []\n",
    "        bow_transformer = CountVectorizer(analyzer='word', max_features =10000, ngram_range = (1, num))\n",
    "        X_train = bow_transformer.fit_transform(X_train)\n",
    "        X_test = bow_transformer.transform(X_test)\n",
    "        for i in model_list:\n",
    "            train_error, test_error = calc_metrics(X_train, y_train, X_test, y_test, i)\n",
    "            train_errors.append(train_error)\n",
    "            test_errors.append(test_error)\n",
    "            error = {'train_error' : train_errors, 'test_error': test_errors}\n",
    "        return error\n",
    "    gram_no_tfidf_title.append(pipeline_no_tfidf(X_train_title, X_test_title, y_train_title, y_test_title))\n",
    "    \n",
    "for num in range(1, 4):    \n",
    "    def pipeline_tfidf(X_train, X_test, y_train, y_test):\n",
    "        train_errors = []\n",
    "        test_errors = []\n",
    "        bow_transformer = CountVectorizer(analyzer='word', max_features = 10000, ngram_range = (1, num))\n",
    "        tfidf_transformer = TfidfTransformer()\n",
    "        X_train = bow_transformer.fit_transform(X_train)\n",
    "        X_test = bow_transformer.transform(X_test)\n",
    "        X_train = tfidf_transformer.fit_transform(X_train)\n",
    "        X_test = tfidf_transformer.transform(X_test)\n",
    "        for i in model_list:\n",
    "            train_error, test_error = calc_metrics(X_train, y_train, X_test, y_test, i)\n",
    "            train_errors.append(train_error)\n",
    "            test_errors.append(test_error)\n",
    "            error = {'train_error' : train_errors, 'test_error': test_errors}\n",
    "        return error\n",
    "    gram_tfidf_title.append(pipeline_tfidf(X_train_title, X_test_title, y_train_title, y_test_title))\n"
   ]
  },
  {
   "cell_type": "code",
   "execution_count": 76,
   "metadata": {
    "ExecuteTime": {
     "end_time": "2019-05-22T20:08:33.886416Z",
     "start_time": "2019-05-22T18:35:47.648094Z"
    }
   },
   "outputs": [
    {
     "name": "stderr",
     "output_type": "stream",
     "text": [
      "C:\\Users\\MSI\\Anaconda3\\lib\\site-packages\\sklearn\\linear_model\\logistic.py:433: FutureWarning: Default solver will be changed to 'lbfgs' in 0.22. Specify a solver to silence this warning.\n",
      "  FutureWarning)\n",
      "C:\\Users\\MSI\\Anaconda3\\lib\\site-packages\\sklearn\\linear_model\\logistic.py:758: ConvergenceWarning: lbfgs failed to converge. Increase the number of iterations.\n",
      "  \"of iterations.\", ConvergenceWarning)\n",
      "C:\\Users\\MSI\\Anaconda3\\lib\\site-packages\\sklearn\\linear_model\\logistic.py:433: FutureWarning: Default solver will be changed to 'lbfgs' in 0.22. Specify a solver to silence this warning.\n",
      "  FutureWarning)\n",
      "C:\\Users\\MSI\\Anaconda3\\lib\\site-packages\\sklearn\\linear_model\\logistic.py:758: ConvergenceWarning: lbfgs failed to converge. Increase the number of iterations.\n",
      "  \"of iterations.\", ConvergenceWarning)\n",
      "C:\\Users\\MSI\\Anaconda3\\lib\\site-packages\\sklearn\\linear_model\\logistic.py:433: FutureWarning: Default solver will be changed to 'lbfgs' in 0.22. Specify a solver to silence this warning.\n",
      "  FutureWarning)\n",
      "C:\\Users\\MSI\\Anaconda3\\lib\\site-packages\\sklearn\\linear_model\\logistic.py:758: ConvergenceWarning: lbfgs failed to converge. Increase the number of iterations.\n",
      "  \"of iterations.\", ConvergenceWarning)\n",
      "C:\\Users\\MSI\\Anaconda3\\lib\\site-packages\\sklearn\\linear_model\\logistic.py:433: FutureWarning: Default solver will be changed to 'lbfgs' in 0.22. Specify a solver to silence this warning.\n",
      "  FutureWarning)\n",
      "C:\\Users\\MSI\\Anaconda3\\lib\\site-packages\\sklearn\\linear_model\\logistic.py:758: ConvergenceWarning: lbfgs failed to converge. Increase the number of iterations.\n",
      "  \"of iterations.\", ConvergenceWarning)\n",
      "C:\\Users\\MSI\\Anaconda3\\lib\\site-packages\\sklearn\\linear_model\\logistic.py:433: FutureWarning: Default solver will be changed to 'lbfgs' in 0.22. Specify a solver to silence this warning.\n",
      "  FutureWarning)\n",
      "C:\\Users\\MSI\\Anaconda3\\lib\\site-packages\\sklearn\\linear_model\\logistic.py:758: ConvergenceWarning: lbfgs failed to converge. Increase the number of iterations.\n",
      "  \"of iterations.\", ConvergenceWarning)\n",
      "C:\\Users\\MSI\\Anaconda3\\lib\\site-packages\\sklearn\\linear_model\\logistic.py:433: FutureWarning: Default solver will be changed to 'lbfgs' in 0.22. Specify a solver to silence this warning.\n",
      "  FutureWarning)\n",
      "C:\\Users\\MSI\\Anaconda3\\lib\\site-packages\\sklearn\\linear_model\\logistic.py:758: ConvergenceWarning: lbfgs failed to converge. Increase the number of iterations.\n",
      "  \"of iterations.\", ConvergenceWarning)\n"
     ]
    }
   ],
   "source": [
    "gram_no_tfidf_review = []\n",
    "gram_tfidf_review = []\n",
    "\n",
    "for num in range(1, 4):    \n",
    "    def pipeline_no_tfidf(X_train, X_test, y_train, y_test):\n",
    "        train_errors = []\n",
    "        test_errors = []\n",
    "        bow_transformer = CountVectorizer(analyzer='word', max_features =10000, ngram_range = (1, num))\n",
    "        X_train = bow_transformer.fit_transform(X_train)\n",
    "        X_test = bow_transformer.transform(X_test)\n",
    "        for i in model_list:\n",
    "            train_error, test_error = calc_metrics(X_train, y_train, X_test, y_test, i)\n",
    "            train_errors.append(train_error)\n",
    "            test_errors.append(test_error)\n",
    "            error = {'train_error' : train_errors, 'test_error': test_errors}\n",
    "        return error\n",
    "    gram_no_tfidf_review.append(pipeline_no_tfidf(X_train_review, X_test_review, y_train_review, y_test_review))\n",
    "    \n",
    "for num in range(1, 4):    \n",
    "    def pipeline_tfidf(X_train, X_test, y_train, y_test):\n",
    "        train_errors = []\n",
    "        test_errors = []\n",
    "        bow_transformer = CountVectorizer(analyzer='word', max_features =10000, ngram_range = (1, num))\n",
    "        tfidf_transformer = TfidfTransformer()\n",
    "        X_train = bow_transformer.fit_transform(X_train)\n",
    "        X_test = bow_transformer.transform(X_test)\n",
    "        X_train = tfidf_transformer.fit_transform(X_train)\n",
    "        X_test = tfidf_transformer.transform(X_test)\n",
    "        for i in model_list:\n",
    "            train_error, test_error = calc_metrics(X_train, y_train, X_test, y_test, i)\n",
    "            train_errors.append(train_error)\n",
    "            test_errors.append(test_error)\n",
    "            error = {'train_error' : train_errors, 'test_error': test_errors}\n",
    "        return error\n",
    "    gram_tfidf_review.append(pipeline_tfidf(X_train_review, X_test_review, y_train_review, y_test_review))\n"
   ]
  },
  {
   "cell_type": "code",
   "execution_count": 77,
   "metadata": {
    "ExecuteTime": {
     "end_time": "2019-05-22T21:40:04.342827Z",
     "start_time": "2019-05-22T20:08:59.347275Z"
    }
   },
   "outputs": [
    {
     "name": "stderr",
     "output_type": "stream",
     "text": [
      "C:\\Users\\MSI\\Anaconda3\\lib\\site-packages\\sklearn\\linear_model\\logistic.py:433: FutureWarning: Default solver will be changed to 'lbfgs' in 0.22. Specify a solver to silence this warning.\n",
      "  FutureWarning)\n",
      "C:\\Users\\MSI\\Anaconda3\\lib\\site-packages\\sklearn\\linear_model\\logistic.py:758: ConvergenceWarning: lbfgs failed to converge. Increase the number of iterations.\n",
      "  \"of iterations.\", ConvergenceWarning)\n",
      "C:\\Users\\MSI\\Anaconda3\\lib\\site-packages\\sklearn\\linear_model\\logistic.py:433: FutureWarning: Default solver will be changed to 'lbfgs' in 0.22. Specify a solver to silence this warning.\n",
      "  FutureWarning)\n",
      "C:\\Users\\MSI\\Anaconda3\\lib\\site-packages\\sklearn\\linear_model\\logistic.py:758: ConvergenceWarning: lbfgs failed to converge. Increase the number of iterations.\n",
      "  \"of iterations.\", ConvergenceWarning)\n",
      "C:\\Users\\MSI\\Anaconda3\\lib\\site-packages\\sklearn\\linear_model\\logistic.py:433: FutureWarning: Default solver will be changed to 'lbfgs' in 0.22. Specify a solver to silence this warning.\n",
      "  FutureWarning)\n",
      "C:\\Users\\MSI\\Anaconda3\\lib\\site-packages\\sklearn\\linear_model\\logistic.py:758: ConvergenceWarning: lbfgs failed to converge. Increase the number of iterations.\n",
      "  \"of iterations.\", ConvergenceWarning)\n",
      "C:\\Users\\MSI\\Anaconda3\\lib\\site-packages\\sklearn\\linear_model\\logistic.py:433: FutureWarning: Default solver will be changed to 'lbfgs' in 0.22. Specify a solver to silence this warning.\n",
      "  FutureWarning)\n",
      "C:\\Users\\MSI\\Anaconda3\\lib\\site-packages\\sklearn\\linear_model\\logistic.py:758: ConvergenceWarning: lbfgs failed to converge. Increase the number of iterations.\n",
      "  \"of iterations.\", ConvergenceWarning)\n",
      "C:\\Users\\MSI\\Anaconda3\\lib\\site-packages\\sklearn\\linear_model\\logistic.py:433: FutureWarning: Default solver will be changed to 'lbfgs' in 0.22. Specify a solver to silence this warning.\n",
      "  FutureWarning)\n",
      "C:\\Users\\MSI\\Anaconda3\\lib\\site-packages\\sklearn\\linear_model\\logistic.py:758: ConvergenceWarning: lbfgs failed to converge. Increase the number of iterations.\n",
      "  \"of iterations.\", ConvergenceWarning)\n",
      "C:\\Users\\MSI\\Anaconda3\\lib\\site-packages\\sklearn\\linear_model\\logistic.py:433: FutureWarning: Default solver will be changed to 'lbfgs' in 0.22. Specify a solver to silence this warning.\n",
      "  FutureWarning)\n",
      "C:\\Users\\MSI\\Anaconda3\\lib\\site-packages\\sklearn\\linear_model\\logistic.py:758: ConvergenceWarning: lbfgs failed to converge. Increase the number of iterations.\n",
      "  \"of iterations.\", ConvergenceWarning)\n"
     ]
    }
   ],
   "source": [
    "gram_no_tfidf_combination = []\n",
    "gram_tfidf_combination = []\n",
    "\n",
    "for num in range(1, 4):    \n",
    "    def pipeline_no_tfidf(X_train, X_test, y_train, y_test):\n",
    "        train_errors = []\n",
    "        test_errors = []\n",
    "        bow_transformer = CountVectorizer(analyzer='word', max_features =10000, ngram_range = (1, num))\n",
    "        X_train = bow_transformer.fit_transform(X_train)\n",
    "        X_test = bow_transformer.transform(X_test)\n",
    "        for i in model_list:\n",
    "            train_error, test_error = calc_metrics(X_train, y_train, X_test, y_test, i)\n",
    "            train_errors.append(train_error)\n",
    "            test_errors.append(test_error)\n",
    "            error = {'train_error' : train_errors, 'test_error': test_errors}\n",
    "        return error\n",
    "    gram_no_tfidf_combination.append(pipeline_no_tfidf(X_train_combination, X_test_combination, y_train_combination, y_test_combination))\n",
    "    \n",
    "for num in range(1, 4):    \n",
    "    def pipeline_tfidf(X_train, X_test, y_train, y_test):\n",
    "        train_errors = []\n",
    "        test_errors = []\n",
    "        bow_transformer = CountVectorizer(analyzer='word', max_features =10000, ngram_range = (1, num))\n",
    "        tfidf_transformer = TfidfTransformer()\n",
    "        X_train = bow_transformer.fit_transform(X_train)\n",
    "        X_test = bow_transformer.transform(X_test)\n",
    "        X_train = tfidf_transformer.fit_transform(X_train)\n",
    "        X_test = tfidf_transformer.transform(X_test)\n",
    "        for i in model_list:\n",
    "            train_error, test_error = calc_metrics(X_train, y_train, X_test, y_test, i)\n",
    "            train_errors.append(train_error)\n",
    "            test_errors.append(test_error)\n",
    "            error = {'train_error' : train_errors, 'test_error': test_errors}\n",
    "        return error\n",
    "    gram_tfidf_combination.append(pipeline_tfidf(X_train_combination, X_test_combination, y_train_combination, y_test_combination))\n",
    "    \n"
   ]
  },
  {
   "cell_type": "code",
   "execution_count": 78,
   "metadata": {
    "ExecuteTime": {
     "end_time": "2019-05-22T21:40:29.797751Z",
     "start_time": "2019-05-22T21:40:29.758852Z"
    }
   },
   "outputs": [],
   "source": [
    "import pickle\n",
    "pickle.dump(gram_no_tfidf_review, open('gram_no_tfidf_review_sentiment_multi_normal_5.sav', 'wb'))\n",
    "pickle.dump(gram_tfidf_review, open('gram_tfidf_review_sentiment_multi_normal_5.sav', 'wb'))\n",
    "pickle.dump(gram_no_tfidf_title, open('gram_no_tfidf_title_sentiment_multi_normal_5.sav', 'wb'))\n",
    "pickle.dump(gram_tfidf_title, open('gram_tfidf_title_sentiment_multi_normal_5.sav', 'wb'))\n",
    "pickle.dump(gram_no_tfidf_combination, open('gram_no_tfidf_combination_sentiment_multi_normal_5.sav', 'wb'))\n",
    "pickle.dump(gram_tfidf_combination, open('gram_tfidf_combination_sentiment_multi_normal_5.sav', 'wb'))"
   ]
  },
  {
   "cell_type": "markdown",
   "metadata": {},
   "source": [
    "## Testing various max feature scenario"
   ]
  },
  {
   "cell_type": "code",
   "execution_count": 79,
   "metadata": {
    "ExecuteTime": {
     "end_time": "2019-05-23T00:13:09.213467Z",
     "start_time": "2019-05-22T21:40:55.214784Z"
    }
   },
   "outputs": [
    {
     "name": "stderr",
     "output_type": "stream",
     "text": [
      "C:\\Users\\MSI\\Anaconda3\\lib\\site-packages\\sklearn\\linear_model\\logistic.py:433: FutureWarning: Default solver will be changed to 'lbfgs' in 0.22. Specify a solver to silence this warning.\n",
      "  FutureWarning)\n",
      "C:\\Users\\MSI\\Anaconda3\\lib\\site-packages\\sklearn\\linear_model\\logistic.py:758: ConvergenceWarning: lbfgs failed to converge. Increase the number of iterations.\n",
      "  \"of iterations.\", ConvergenceWarning)\n",
      "C:\\Users\\MSI\\Anaconda3\\lib\\site-packages\\sklearn\\linear_model\\logistic.py:433: FutureWarning: Default solver will be changed to 'lbfgs' in 0.22. Specify a solver to silence this warning.\n",
      "  FutureWarning)\n",
      "C:\\Users\\MSI\\Anaconda3\\lib\\site-packages\\sklearn\\linear_model\\logistic.py:758: ConvergenceWarning: lbfgs failed to converge. Increase the number of iterations.\n",
      "  \"of iterations.\", ConvergenceWarning)\n",
      "C:\\Users\\MSI\\Anaconda3\\lib\\site-packages\\sklearn\\linear_model\\logistic.py:433: FutureWarning: Default solver will be changed to 'lbfgs' in 0.22. Specify a solver to silence this warning.\n",
      "  FutureWarning)\n",
      "C:\\Users\\MSI\\Anaconda3\\lib\\site-packages\\sklearn\\linear_model\\logistic.py:758: ConvergenceWarning: lbfgs failed to converge. Increase the number of iterations.\n",
      "  \"of iterations.\", ConvergenceWarning)\n",
      "C:\\Users\\MSI\\Anaconda3\\lib\\site-packages\\sklearn\\linear_model\\logistic.py:433: FutureWarning: Default solver will be changed to 'lbfgs' in 0.22. Specify a solver to silence this warning.\n",
      "  FutureWarning)\n",
      "C:\\Users\\MSI\\Anaconda3\\lib\\site-packages\\sklearn\\linear_model\\logistic.py:758: ConvergenceWarning: lbfgs failed to converge. Increase the number of iterations.\n",
      "  \"of iterations.\", ConvergenceWarning)\n",
      "C:\\Users\\MSI\\Anaconda3\\lib\\site-packages\\sklearn\\linear_model\\logistic.py:433: FutureWarning: Default solver will be changed to 'lbfgs' in 0.22. Specify a solver to silence this warning.\n",
      "  FutureWarning)\n",
      "C:\\Users\\MSI\\Anaconda3\\lib\\site-packages\\sklearn\\linear_model\\logistic.py:758: ConvergenceWarning: lbfgs failed to converge. Increase the number of iterations.\n",
      "  \"of iterations.\", ConvergenceWarning)\n",
      "C:\\Users\\MSI\\Anaconda3\\lib\\site-packages\\sklearn\\linear_model\\logistic.py:433: FutureWarning: Default solver will be changed to 'lbfgs' in 0.22. Specify a solver to silence this warning.\n",
      "  FutureWarning)\n",
      "C:\\Users\\MSI\\Anaconda3\\lib\\site-packages\\sklearn\\linear_model\\logistic.py:758: ConvergenceWarning: lbfgs failed to converge. Increase the number of iterations.\n",
      "  \"of iterations.\", ConvergenceWarning)\n",
      "C:\\Users\\MSI\\Anaconda3\\lib\\site-packages\\sklearn\\linear_model\\logistic.py:433: FutureWarning: Default solver will be changed to 'lbfgs' in 0.22. Specify a solver to silence this warning.\n",
      "  FutureWarning)\n",
      "C:\\Users\\MSI\\Anaconda3\\lib\\site-packages\\sklearn\\linear_model\\logistic.py:758: ConvergenceWarning: lbfgs failed to converge. Increase the number of iterations.\n",
      "  \"of iterations.\", ConvergenceWarning)\n",
      "C:\\Users\\MSI\\Anaconda3\\lib\\site-packages\\sklearn\\linear_model\\logistic.py:433: FutureWarning: Default solver will be changed to 'lbfgs' in 0.22. Specify a solver to silence this warning.\n",
      "  FutureWarning)\n",
      "C:\\Users\\MSI\\Anaconda3\\lib\\site-packages\\sklearn\\linear_model\\logistic.py:758: ConvergenceWarning: lbfgs failed to converge. Increase the number of iterations.\n",
      "  \"of iterations.\", ConvergenceWarning)\n",
      "C:\\Users\\MSI\\Anaconda3\\lib\\site-packages\\sklearn\\linear_model\\logistic.py:433: FutureWarning: Default solver will be changed to 'lbfgs' in 0.22. Specify a solver to silence this warning.\n",
      "  FutureWarning)\n",
      "C:\\Users\\MSI\\Anaconda3\\lib\\site-packages\\sklearn\\linear_model\\logistic.py:758: ConvergenceWarning: lbfgs failed to converge. Increase the number of iterations.\n",
      "  \"of iterations.\", ConvergenceWarning)\n",
      "C:\\Users\\MSI\\Anaconda3\\lib\\site-packages\\sklearn\\linear_model\\logistic.py:433: FutureWarning: Default solver will be changed to 'lbfgs' in 0.22. Specify a solver to silence this warning.\n",
      "  FutureWarning)\n",
      "C:\\Users\\MSI\\Anaconda3\\lib\\site-packages\\sklearn\\linear_model\\logistic.py:758: ConvergenceWarning: lbfgs failed to converge. Increase the number of iterations.\n",
      "  \"of iterations.\", ConvergenceWarning)\n"
     ]
    }
   ],
   "source": [
    "feature_no_tfidf_title = []\n",
    "feature_tfidf_title = []\n",
    "\n",
    "for num in [10000, 15000, 20000, 25000, 30000]:\n",
    "    def pipeline_no_tfidf(X_train, X_test, y_train, y_test):\n",
    "        train_errors = []\n",
    "        test_errors = []\n",
    "        bow_transformer = CountVectorizer(analyzer='word', max_features = num, ngram_range = (1, 2))\n",
    "        X_train = bow_transformer.fit_transform(X_train)\n",
    "        X_test = bow_transformer.transform(X_test)\n",
    "        for i in model_list:\n",
    "            train_error, test_error = calc_metrics(X_train, y_train, X_test, y_test, i)\n",
    "            train_errors.append(train_error)\n",
    "            test_errors.append(test_error)\n",
    "            error = {'train_error' : train_errors, 'test_error': test_errors}\n",
    "        return error\n",
    "    feature_no_tfidf_title.append(pipeline_no_tfidf(X_train_title, X_test_title, y_train_title, y_test_title))\n",
    "    \n",
    "for num in [10000, 15000,20000, 25000, 30000]:  \n",
    "    def pipeline_tfidf(X_train, X_test, y_train, y_test):\n",
    "        train_errors = []\n",
    "        test_errors = []\n",
    "        bow_transformer = CountVectorizer(analyzer='word', max_features =num, ngram_range = (1, 2))\n",
    "        tfidf_transformer = TfidfTransformer()\n",
    "        X_train = bow_transformer.fit_transform(X_train)\n",
    "        X_test = bow_transformer.transform(X_test)\n",
    "        X_train = tfidf_transformer.fit_transform(X_train)\n",
    "        X_test = tfidf_transformer.transform(X_test)\n",
    "        for i in model_list:\n",
    "            train_error, test_error = calc_metrics(X_train, y_train, X_test, y_test, i)\n",
    "            train_errors.append(train_error)\n",
    "            test_errors.append(test_error)\n",
    "            error = {'train_error' : train_errors, 'test_error': test_errors}\n",
    "        return error\n",
    "    feature_tfidf_title.append(pipeline_tfidf(X_train_title, X_test_title, y_train_title, y_test_title))\n"
   ]
  },
  {
   "cell_type": "code",
   "execution_count": 80,
   "metadata": {
    "ExecuteTime": {
     "end_time": "2019-05-23T02:54:24.915111Z",
     "start_time": "2019-05-23T00:13:34.777929Z"
    }
   },
   "outputs": [
    {
     "name": "stderr",
     "output_type": "stream",
     "text": [
      "C:\\Users\\MSI\\Anaconda3\\lib\\site-packages\\sklearn\\linear_model\\logistic.py:433: FutureWarning: Default solver will be changed to 'lbfgs' in 0.22. Specify a solver to silence this warning.\n",
      "  FutureWarning)\n",
      "C:\\Users\\MSI\\Anaconda3\\lib\\site-packages\\sklearn\\linear_model\\logistic.py:758: ConvergenceWarning: lbfgs failed to converge. Increase the number of iterations.\n",
      "  \"of iterations.\", ConvergenceWarning)\n",
      "C:\\Users\\MSI\\Anaconda3\\lib\\site-packages\\sklearn\\linear_model\\logistic.py:433: FutureWarning: Default solver will be changed to 'lbfgs' in 0.22. Specify a solver to silence this warning.\n",
      "  FutureWarning)\n",
      "C:\\Users\\MSI\\Anaconda3\\lib\\site-packages\\sklearn\\linear_model\\logistic.py:758: ConvergenceWarning: lbfgs failed to converge. Increase the number of iterations.\n",
      "  \"of iterations.\", ConvergenceWarning)\n",
      "C:\\Users\\MSI\\Anaconda3\\lib\\site-packages\\sklearn\\linear_model\\logistic.py:433: FutureWarning: Default solver will be changed to 'lbfgs' in 0.22. Specify a solver to silence this warning.\n",
      "  FutureWarning)\n",
      "C:\\Users\\MSI\\Anaconda3\\lib\\site-packages\\sklearn\\linear_model\\logistic.py:758: ConvergenceWarning: lbfgs failed to converge. Increase the number of iterations.\n",
      "  \"of iterations.\", ConvergenceWarning)\n",
      "C:\\Users\\MSI\\Anaconda3\\lib\\site-packages\\sklearn\\linear_model\\logistic.py:433: FutureWarning: Default solver will be changed to 'lbfgs' in 0.22. Specify a solver to silence this warning.\n",
      "  FutureWarning)\n",
      "C:\\Users\\MSI\\Anaconda3\\lib\\site-packages\\sklearn\\linear_model\\logistic.py:758: ConvergenceWarning: lbfgs failed to converge. Increase the number of iterations.\n",
      "  \"of iterations.\", ConvergenceWarning)\n",
      "C:\\Users\\MSI\\Anaconda3\\lib\\site-packages\\sklearn\\linear_model\\logistic.py:433: FutureWarning: Default solver will be changed to 'lbfgs' in 0.22. Specify a solver to silence this warning.\n",
      "  FutureWarning)\n",
      "C:\\Users\\MSI\\Anaconda3\\lib\\site-packages\\sklearn\\linear_model\\logistic.py:758: ConvergenceWarning: lbfgs failed to converge. Increase the number of iterations.\n",
      "  \"of iterations.\", ConvergenceWarning)\n",
      "C:\\Users\\MSI\\Anaconda3\\lib\\site-packages\\sklearn\\linear_model\\logistic.py:433: FutureWarning: Default solver will be changed to 'lbfgs' in 0.22. Specify a solver to silence this warning.\n",
      "  FutureWarning)\n",
      "C:\\Users\\MSI\\Anaconda3\\lib\\site-packages\\sklearn\\linear_model\\logistic.py:758: ConvergenceWarning: lbfgs failed to converge. Increase the number of iterations.\n",
      "  \"of iterations.\", ConvergenceWarning)\n",
      "C:\\Users\\MSI\\Anaconda3\\lib\\site-packages\\sklearn\\linear_model\\logistic.py:433: FutureWarning: Default solver will be changed to 'lbfgs' in 0.22. Specify a solver to silence this warning.\n",
      "  FutureWarning)\n",
      "C:\\Users\\MSI\\Anaconda3\\lib\\site-packages\\sklearn\\linear_model\\logistic.py:758: ConvergenceWarning: lbfgs failed to converge. Increase the number of iterations.\n",
      "  \"of iterations.\", ConvergenceWarning)\n",
      "C:\\Users\\MSI\\Anaconda3\\lib\\site-packages\\sklearn\\linear_model\\logistic.py:433: FutureWarning: Default solver will be changed to 'lbfgs' in 0.22. Specify a solver to silence this warning.\n",
      "  FutureWarning)\n",
      "C:\\Users\\MSI\\Anaconda3\\lib\\site-packages\\sklearn\\linear_model\\logistic.py:758: ConvergenceWarning: lbfgs failed to converge. Increase the number of iterations.\n",
      "  \"of iterations.\", ConvergenceWarning)\n",
      "C:\\Users\\MSI\\Anaconda3\\lib\\site-packages\\sklearn\\linear_model\\logistic.py:433: FutureWarning: Default solver will be changed to 'lbfgs' in 0.22. Specify a solver to silence this warning.\n",
      "  FutureWarning)\n",
      "C:\\Users\\MSI\\Anaconda3\\lib\\site-packages\\sklearn\\linear_model\\logistic.py:758: ConvergenceWarning: lbfgs failed to converge. Increase the number of iterations.\n",
      "  \"of iterations.\", ConvergenceWarning)\n",
      "C:\\Users\\MSI\\Anaconda3\\lib\\site-packages\\sklearn\\linear_model\\logistic.py:433: FutureWarning: Default solver will be changed to 'lbfgs' in 0.22. Specify a solver to silence this warning.\n",
      "  FutureWarning)\n",
      "C:\\Users\\MSI\\Anaconda3\\lib\\site-packages\\sklearn\\linear_model\\logistic.py:758: ConvergenceWarning: lbfgs failed to converge. Increase the number of iterations.\n",
      "  \"of iterations.\", ConvergenceWarning)\n"
     ]
    }
   ],
   "source": [
    "feature_no_tfidf_review = []\n",
    "feature_tfidf_review = []\n",
    "\n",
    "for num in [10000, 15000, 20000, 25000, 30000]:\n",
    "    def pipeline_no_tfidf(X_train, X_test, y_train, y_test):\n",
    "        train_errors = []\n",
    "        test_errors = []\n",
    "        bow_transformer = CountVectorizer(analyzer='word', max_features = num, ngram_range = (1, 2))\n",
    "        X_train = bow_transformer.fit_transform(X_train)\n",
    "        X_test = bow_transformer.transform(X_test)\n",
    "        for i in model_list:\n",
    "            train_error, test_error = calc_metrics(X_train, y_train, X_test, y_test, i)\n",
    "            train_errors.append(train_error)\n",
    "            test_errors.append(test_error)\n",
    "            error = {'train_error' : train_errors, 'test_error': test_errors}\n",
    "        return error\n",
    "    feature_no_tfidf_review.append(pipeline_no_tfidf(X_train_review, X_test_review, y_train_review, y_test_review))\n",
    "    \n",
    "for num in [10000, 15000,20000, 25000, 30000]:  \n",
    "    def pipeline_tfidf(X_train, X_test, y_train, y_test):\n",
    "        train_errors = []\n",
    "        test_errors = []\n",
    "        bow_transformer = CountVectorizer(analyzer='word', max_features =num, ngram_range = (1, 2))\n",
    "        tfidf_transformer = TfidfTransformer()\n",
    "        X_train = bow_transformer.fit_transform(X_train)\n",
    "        X_test = bow_transformer.transform(X_test)\n",
    "        X_train = tfidf_transformer.fit_transform(X_train)\n",
    "        X_test = tfidf_transformer.transform(X_test)\n",
    "        for i in model_list:\n",
    "            train_error, test_error = calc_metrics(X_train, y_train, X_test, y_test, i)\n",
    "            train_errors.append(train_error)\n",
    "            test_errors.append(test_error)\n",
    "            error = {'train_error' : train_errors, 'test_error': test_errors}\n",
    "        return error\n",
    "    feature_tfidf_review.append(pipeline_tfidf(X_train_review, X_test_review, y_train_review, y_test_review))\n"
   ]
  },
  {
   "cell_type": "code",
   "execution_count": 81,
   "metadata": {
    "ExecuteTime": {
     "end_time": "2019-05-23T06:26:02.186144Z",
     "start_time": "2019-05-23T02:54:50.657849Z"
    }
   },
   "outputs": [
    {
     "name": "stderr",
     "output_type": "stream",
     "text": [
      "C:\\Users\\MSI\\Anaconda3\\lib\\site-packages\\sklearn\\linear_model\\logistic.py:433: FutureWarning: Default solver will be changed to 'lbfgs' in 0.22. Specify a solver to silence this warning.\n",
      "  FutureWarning)\n",
      "C:\\Users\\MSI\\Anaconda3\\lib\\site-packages\\sklearn\\linear_model\\logistic.py:758: ConvergenceWarning: lbfgs failed to converge. Increase the number of iterations.\n",
      "  \"of iterations.\", ConvergenceWarning)\n",
      "C:\\Users\\MSI\\Anaconda3\\lib\\site-packages\\sklearn\\linear_model\\logistic.py:433: FutureWarning: Default solver will be changed to 'lbfgs' in 0.22. Specify a solver to silence this warning.\n",
      "  FutureWarning)\n",
      "C:\\Users\\MSI\\Anaconda3\\lib\\site-packages\\sklearn\\linear_model\\logistic.py:758: ConvergenceWarning: lbfgs failed to converge. Increase the number of iterations.\n",
      "  \"of iterations.\", ConvergenceWarning)\n",
      "C:\\Users\\MSI\\Anaconda3\\lib\\site-packages\\sklearn\\linear_model\\logistic.py:433: FutureWarning: Default solver will be changed to 'lbfgs' in 0.22. Specify a solver to silence this warning.\n",
      "  FutureWarning)\n",
      "C:\\Users\\MSI\\Anaconda3\\lib\\site-packages\\sklearn\\linear_model\\logistic.py:758: ConvergenceWarning: lbfgs failed to converge. Increase the number of iterations.\n",
      "  \"of iterations.\", ConvergenceWarning)\n",
      "C:\\Users\\MSI\\Anaconda3\\lib\\site-packages\\sklearn\\linear_model\\logistic.py:433: FutureWarning: Default solver will be changed to 'lbfgs' in 0.22. Specify a solver to silence this warning.\n",
      "  FutureWarning)\n",
      "C:\\Users\\MSI\\Anaconda3\\lib\\site-packages\\sklearn\\linear_model\\logistic.py:758: ConvergenceWarning: lbfgs failed to converge. Increase the number of iterations.\n",
      "  \"of iterations.\", ConvergenceWarning)\n",
      "C:\\Users\\MSI\\Anaconda3\\lib\\site-packages\\sklearn\\linear_model\\logistic.py:433: FutureWarning: Default solver will be changed to 'lbfgs' in 0.22. Specify a solver to silence this warning.\n",
      "  FutureWarning)\n",
      "C:\\Users\\MSI\\Anaconda3\\lib\\site-packages\\sklearn\\linear_model\\logistic.py:758: ConvergenceWarning: lbfgs failed to converge. Increase the number of iterations.\n",
      "  \"of iterations.\", ConvergenceWarning)\n",
      "C:\\Users\\MSI\\Anaconda3\\lib\\site-packages\\sklearn\\linear_model\\logistic.py:433: FutureWarning: Default solver will be changed to 'lbfgs' in 0.22. Specify a solver to silence this warning.\n",
      "  FutureWarning)\n",
      "C:\\Users\\MSI\\Anaconda3\\lib\\site-packages\\sklearn\\linear_model\\logistic.py:758: ConvergenceWarning: lbfgs failed to converge. Increase the number of iterations.\n",
      "  \"of iterations.\", ConvergenceWarning)\n",
      "C:\\Users\\MSI\\Anaconda3\\lib\\site-packages\\sklearn\\linear_model\\logistic.py:433: FutureWarning: Default solver will be changed to 'lbfgs' in 0.22. Specify a solver to silence this warning.\n",
      "  FutureWarning)\n",
      "C:\\Users\\MSI\\Anaconda3\\lib\\site-packages\\sklearn\\linear_model\\logistic.py:758: ConvergenceWarning: lbfgs failed to converge. Increase the number of iterations.\n",
      "  \"of iterations.\", ConvergenceWarning)\n",
      "C:\\Users\\MSI\\Anaconda3\\lib\\site-packages\\sklearn\\linear_model\\logistic.py:433: FutureWarning: Default solver will be changed to 'lbfgs' in 0.22. Specify a solver to silence this warning.\n",
      "  FutureWarning)\n",
      "C:\\Users\\MSI\\Anaconda3\\lib\\site-packages\\sklearn\\linear_model\\logistic.py:758: ConvergenceWarning: lbfgs failed to converge. Increase the number of iterations.\n",
      "  \"of iterations.\", ConvergenceWarning)\n",
      "C:\\Users\\MSI\\Anaconda3\\lib\\site-packages\\sklearn\\linear_model\\logistic.py:433: FutureWarning: Default solver will be changed to 'lbfgs' in 0.22. Specify a solver to silence this warning.\n",
      "  FutureWarning)\n",
      "C:\\Users\\MSI\\Anaconda3\\lib\\site-packages\\sklearn\\linear_model\\logistic.py:758: ConvergenceWarning: lbfgs failed to converge. Increase the number of iterations.\n",
      "  \"of iterations.\", ConvergenceWarning)\n",
      "C:\\Users\\MSI\\Anaconda3\\lib\\site-packages\\sklearn\\linear_model\\logistic.py:433: FutureWarning: Default solver will be changed to 'lbfgs' in 0.22. Specify a solver to silence this warning.\n",
      "  FutureWarning)\n",
      "C:\\Users\\MSI\\Anaconda3\\lib\\site-packages\\sklearn\\linear_model\\logistic.py:758: ConvergenceWarning: lbfgs failed to converge. Increase the number of iterations.\n",
      "  \"of iterations.\", ConvergenceWarning)\n"
     ]
    }
   ],
   "source": [
    "feature_no_tfidf_combination = []\n",
    "feature_tfidf_combination = []\n",
    "\n",
    "for num in [10000, 15000, 20000, 25000, 30000]:\n",
    "    def pipeline_no_tfidf(X_train, X_test, y_train, y_test):\n",
    "        train_errors = []\n",
    "        test_errors = []\n",
    "        bow_transformer = CountVectorizer(analyzer='word', max_features = num, ngram_range = (1, 2))\n",
    "        X_train = bow_transformer.fit_transform(X_train)\n",
    "        X_test = bow_transformer.transform(X_test)\n",
    "        for i in model_list:\n",
    "            train_error, test_error = calc_metrics(X_train, y_train, X_test, y_test, i)\n",
    "            train_errors.append(train_error)\n",
    "            test_errors.append(test_error)\n",
    "            error = {'train_error' : train_errors, 'test_error': test_errors}\n",
    "        return error\n",
    "    feature_no_tfidf_combination.append(pipeline_no_tfidf(X_train_combination, X_test_combination, y_train_combination, y_test_combination))\n",
    "    \n",
    "for num in [10000, 15000,20000, 25000, 30000]:  \n",
    "    def pipeline_tfidf(X_train, X_test, y_train, y_test):\n",
    "        train_errors = []\n",
    "        test_errors = []\n",
    "        bow_transformer = CountVectorizer(analyzer='word', max_features =num, ngram_range = (1, 2))\n",
    "        tfidf_transformer = TfidfTransformer()\n",
    "        X_train = bow_transformer.fit_transform(X_train)\n",
    "        X_test = bow_transformer.transform(X_test)\n",
    "        X_train = tfidf_transformer.fit_transform(X_train)\n",
    "        X_test = tfidf_transformer.transform(X_test)\n",
    "        for i in model_list:\n",
    "            train_error, test_error = calc_metrics(X_train, y_train, X_test, y_test, i)\n",
    "            train_errors.append(train_error)\n",
    "            test_errors.append(test_error)\n",
    "            error = {'train_error' : train_errors, 'test_error': test_errors}\n",
    "        return error\n",
    "    feature_tfidf_combination.append(pipeline_tfidf(X_train_combination, X_test_combination, y_train_combination, y_test_combination))\n"
   ]
  },
  {
   "cell_type": "code",
   "execution_count": 82,
   "metadata": {
    "ExecuteTime": {
     "end_time": "2019-05-23T06:26:28.121393Z",
     "start_time": "2019-05-23T06:26:28.088469Z"
    }
   },
   "outputs": [],
   "source": [
    "import pickle\n",
    "pickle.dump(feature_no_tfidf_review, open('feature_no_tfidf_review_sentiment_multi_normal_5.sav', 'wb'))\n",
    "pickle.dump(feature_tfidf_review, open('feature_tfidf_review_sentiment_multi_normal_5.sav', 'wb'))\n",
    "pickle.dump(feature_no_tfidf_title, open('feature_no_tfidf_title_sentiment_multi_normal_5.sav', 'wb'))\n",
    "pickle.dump(feature_tfidf_title, open('feature_tfidf_title_sentiment_multi_normal_5.sav', 'wb'))\n",
    "pickle.dump(feature_no_tfidf_combination, open('feature_no_tfidf_combination_sentiment_multi_normal_5.sav', 'wb'))\n",
    "pickle.dump(feature_tfidf_combination, open('feature_tfidf_combination_sentiment_multi_normal_5.sav', 'wb'))"
   ]
  },
  {
   "cell_type": "code",
   "execution_count": 83,
   "metadata": {
    "ExecuteTime": {
     "end_time": "2019-05-23T06:26:53.727981Z",
     "start_time": "2019-05-23T06:26:53.421776Z"
    }
   },
   "outputs": [],
   "source": [
    "X_train_title, X_test_title, y_train_title, y_test_title = train_test_split(amazon['Title_no_punc'],\n",
    "                                                                             amazon['Sentiment'], test_size = 0.2)\n",
    "X_train_review, X_test_review, y_train_review, y_test_review = train_test_split(amazon['Review_no_punc'],\n",
    "                                                                             amazon['Sentiment'], test_size = 0.2)\n",
    "X_train_combination, X_test_combination, y_train_combination, y_test_combination = train_test_split(amazon['Combination_no_punc'],\n",
    "                                                                             amazon['Sentiment'], test_size = 0.2)"
   ]
  },
  {
   "cell_type": "code",
   "execution_count": 84,
   "metadata": {
    "ExecuteTime": {
     "end_time": "2019-05-23T06:56:37.566259Z",
     "start_time": "2019-05-23T06:27:19.581823Z"
    }
   },
   "outputs": [
    {
     "name": "stderr",
     "output_type": "stream",
     "text": [
      "C:\\Users\\MSI\\Anaconda3\\lib\\site-packages\\sklearn\\linear_model\\logistic.py:433: FutureWarning: Default solver will be changed to 'lbfgs' in 0.22. Specify a solver to silence this warning.\n",
      "  FutureWarning)\n",
      "C:\\Users\\MSI\\Anaconda3\\lib\\site-packages\\sklearn\\linear_model\\logistic.py:758: ConvergenceWarning: lbfgs failed to converge. Increase the number of iterations.\n",
      "  \"of iterations.\", ConvergenceWarning)\n",
      "C:\\Users\\MSI\\Anaconda3\\lib\\site-packages\\sklearn\\linear_model\\logistic.py:433: FutureWarning: Default solver will be changed to 'lbfgs' in 0.22. Specify a solver to silence this warning.\n",
      "  FutureWarning)\n",
      "C:\\Users\\MSI\\Anaconda3\\lib\\site-packages\\sklearn\\linear_model\\logistic.py:758: ConvergenceWarning: lbfgs failed to converge. Increase the number of iterations.\n",
      "  \"of iterations.\", ConvergenceWarning)\n"
     ]
    }
   ],
   "source": [
    "gram_no_tfidf_title = []\n",
    "gram_tfidf_title = []\n",
    "\n",
    " \n",
    "def pipeline_no_tfidf(X_train, X_test, y_train, y_test):\n",
    "    train_errors = []\n",
    "    test_errors = []\n",
    "    bow_transformer = CountVectorizer(analyzer='word', max_features =15000, ngram_range = (1, 2))\n",
    "    X_train = bow_transformer.fit_transform(X_train)\n",
    "    X_test = bow_transformer.transform(X_test)\n",
    "    for i in model_list:\n",
    "        train_error, test_error = calc_metrics(X_train, y_train, X_test, y_test, i)\n",
    "        train_errors.append(train_error)\n",
    "        test_errors.append(test_error)\n",
    "        error = {'train_error' : train_errors, 'test_error': test_errors}\n",
    "    return error\n",
    "gram_no_tfidf_title.append(pipeline_no_tfidf(X_train_title, X_test_title, y_train_title, y_test_title))\n",
    "    \n",
    " \n",
    "def pipeline_tfidf(X_train, X_test, y_train, y_test):\n",
    "    train_errors = []\n",
    "    test_errors = []\n",
    "    bow_transformer = CountVectorizer(analyzer='word', max_features = 15000, ngram_range = (1, 2))\n",
    "    tfidf_transformer = TfidfTransformer()\n",
    "    X_train = bow_transformer.fit_transform(X_train)\n",
    "    X_test = bow_transformer.transform(X_test)\n",
    "    X_train = tfidf_transformer.fit_transform(X_train)\n",
    "    X_test = tfidf_transformer.transform(X_test)\n",
    "    for i in model_list:\n",
    "        train_error, test_error = calc_metrics(X_train, y_train, X_test, y_test, i)\n",
    "        train_errors.append(train_error)\n",
    "        test_errors.append(test_error)\n",
    "        error = {'train_error' : train_errors, 'test_error': test_errors}\n",
    "    return error\n",
    "gram_tfidf_title.append(pipeline_tfidf(X_train_title, X_test_title, y_train_title, y_test_title))\n"
   ]
  },
  {
   "cell_type": "code",
   "execution_count": 85,
   "metadata": {
    "ExecuteTime": {
     "end_time": "2019-05-23T07:49:43.834929Z",
     "start_time": "2019-05-23T06:57:05.528485Z"
    }
   },
   "outputs": [
    {
     "name": "stderr",
     "output_type": "stream",
     "text": [
      "C:\\Users\\MSI\\Anaconda3\\lib\\site-packages\\sklearn\\linear_model\\logistic.py:433: FutureWarning: Default solver will be changed to 'lbfgs' in 0.22. Specify a solver to silence this warning.\n",
      "  FutureWarning)\n",
      "C:\\Users\\MSI\\Anaconda3\\lib\\site-packages\\sklearn\\linear_model\\logistic.py:758: ConvergenceWarning: lbfgs failed to converge. Increase the number of iterations.\n",
      "  \"of iterations.\", ConvergenceWarning)\n",
      "C:\\Users\\MSI\\Anaconda3\\lib\\site-packages\\sklearn\\linear_model\\logistic.py:433: FutureWarning: Default solver will be changed to 'lbfgs' in 0.22. Specify a solver to silence this warning.\n",
      "  FutureWarning)\n",
      "C:\\Users\\MSI\\Anaconda3\\lib\\site-packages\\sklearn\\linear_model\\logistic.py:758: ConvergenceWarning: lbfgs failed to converge. Increase the number of iterations.\n",
      "  \"of iterations.\", ConvergenceWarning)\n"
     ]
    }
   ],
   "source": [
    "gram_no_tfidf_review = []\n",
    "gram_tfidf_review = []\n",
    "\n",
    " \n",
    "def pipeline_no_tfidf(X_train, X_test, y_train, y_test):\n",
    "    train_errors = []\n",
    "    test_errors = []\n",
    "    bow_transformer = CountVectorizer(analyzer='word', max_features =15000, ngram_range = (1, 2))\n",
    "    X_train = bow_transformer.fit_transform(X_train)\n",
    "    X_test = bow_transformer.transform(X_test)\n",
    "    for i in model_list:\n",
    "        train_error, test_error = calc_metrics(X_train, y_train, X_test, y_test, i)\n",
    "        train_errors.append(train_error)\n",
    "        test_errors.append(test_error)\n",
    "        error = {'train_error' : train_errors, 'test_error': test_errors}\n",
    "    return error\n",
    "gram_no_tfidf_review.append(pipeline_no_tfidf(X_train_review, X_test_review, y_train_review, y_test_review))\n",
    "    \n",
    " \n",
    "def pipeline_tfidf(X_train, X_test, y_train, y_test):\n",
    "    train_errors = []\n",
    "    test_errors = []\n",
    "    bow_transformer = CountVectorizer(analyzer='word', max_features = 15000, ngram_range = (1, 2))\n",
    "    tfidf_transformer = TfidfTransformer()\n",
    "    X_train = bow_transformer.fit_transform(X_train)\n",
    "    X_test = bow_transformer.transform(X_test)\n",
    "    X_train = tfidf_transformer.fit_transform(X_train)\n",
    "    X_test = tfidf_transformer.transform(X_test)\n",
    "    for i in model_list:\n",
    "        train_error, test_error = calc_metrics(X_train, y_train, X_test, y_test, i)\n",
    "        train_errors.append(train_error)\n",
    "        test_errors.append(test_error)\n",
    "        error = {'train_error' : train_errors, 'test_error': test_errors}\n",
    "    return error\n",
    "gram_tfidf_review.append(pipeline_tfidf(X_train_review, X_test_review, y_train_review, y_test_review))\n"
   ]
  },
  {
   "cell_type": "code",
   "execution_count": 86,
   "metadata": {
    "ExecuteTime": {
     "end_time": "2019-05-23T08:43:39.130126Z",
     "start_time": "2019-05-23T07:50:11.468046Z"
    }
   },
   "outputs": [
    {
     "name": "stderr",
     "output_type": "stream",
     "text": [
      "C:\\Users\\MSI\\Anaconda3\\lib\\site-packages\\sklearn\\linear_model\\logistic.py:433: FutureWarning: Default solver will be changed to 'lbfgs' in 0.22. Specify a solver to silence this warning.\n",
      "  FutureWarning)\n",
      "C:\\Users\\MSI\\Anaconda3\\lib\\site-packages\\sklearn\\linear_model\\logistic.py:758: ConvergenceWarning: lbfgs failed to converge. Increase the number of iterations.\n",
      "  \"of iterations.\", ConvergenceWarning)\n",
      "C:\\Users\\MSI\\Anaconda3\\lib\\site-packages\\sklearn\\linear_model\\logistic.py:433: FutureWarning: Default solver will be changed to 'lbfgs' in 0.22. Specify a solver to silence this warning.\n",
      "  FutureWarning)\n",
      "C:\\Users\\MSI\\Anaconda3\\lib\\site-packages\\sklearn\\linear_model\\logistic.py:758: ConvergenceWarning: lbfgs failed to converge. Increase the number of iterations.\n",
      "  \"of iterations.\", ConvergenceWarning)\n"
     ]
    }
   ],
   "source": [
    "gram_no_tfidf_combination = []\n",
    "gram_tfidf_combination = []\n",
    "\n",
    " \n",
    "def pipeline_no_tfidf(X_train, X_test, y_train, y_test):\n",
    "    train_errors = []\n",
    "    test_errors = []\n",
    "    bow_transformer = CountVectorizer(analyzer='word', max_features =15000, ngram_range = (1, 2))\n",
    "    X_train = bow_transformer.fit_transform(X_train)\n",
    "    X_test = bow_transformer.transform(X_test)\n",
    "    for i in model_list:\n",
    "        train_error, test_error = calc_metrics(X_train, y_train, X_test, y_test, i)\n",
    "        train_errors.append(train_error)\n",
    "        test_errors.append(test_error)\n",
    "        error = {'train_error' : train_errors, 'test_error': test_errors}\n",
    "    return error\n",
    "gram_no_tfidf_combination.append(pipeline_no_tfidf(X_train_combination, X_test_combination, y_train_combination, y_test_combination))\n",
    "    \n",
    " \n",
    "def pipeline_tfidf(X_train, X_test, y_train, y_test):\n",
    "    train_errors = []\n",
    "    test_errors = []\n",
    "    bow_transformer = CountVectorizer(analyzer='word', max_features = 15000, ngram_range = (1, 2))\n",
    "    tfidf_transformer = TfidfTransformer()\n",
    "    X_train = bow_transformer.fit_transform(X_train)\n",
    "    X_test = bow_transformer.transform(X_test)\n",
    "    X_train = tfidf_transformer.fit_transform(X_train)\n",
    "    X_test = tfidf_transformer.transform(X_test)\n",
    "    for i in model_list:\n",
    "        train_error, test_error = calc_metrics(X_train, y_train, X_test, y_test, i)\n",
    "        train_errors.append(train_error)\n",
    "        test_errors.append(test_error)\n",
    "        error = {'train_error' : train_errors, 'test_error': test_errors}\n",
    "    return error\n",
    "gram_tfidf_combination.append(pipeline_tfidf(X_train_combination, X_test_combination, y_train_combination, y_test_combination))\n"
   ]
  },
  {
   "cell_type": "code",
   "execution_count": 87,
   "metadata": {
    "ExecuteTime": {
     "end_time": "2019-05-23T08:44:08.616053Z",
     "start_time": "2019-05-23T08:44:08.580857Z"
    }
   },
   "outputs": [],
   "source": [
    "import pickle\n",
    "pickle.dump(gram_no_tfidf_review, open('no_punc_no_tfidf_review_sentiment_multi_normal_5.sav', 'wb'))\n",
    "pickle.dump(gram_tfidf_review, open('no_punc_tfidf_review_sentiment_multi_normal_5.sav', 'wb'))\n",
    "pickle.dump(gram_no_tfidf_title, open('no_punc_no_tfidf_title_sentiment_multi_normal_5.sav', 'wb'))\n",
    "pickle.dump(gram_tfidf_title, open('no_punc_tfidf_title_sentiment_multi_normal_5.sav', 'wb'))\n",
    "pickle.dump(gram_no_tfidf_combination, open('no_punc_no_tfidf_combination_sentiment_multi_normal_5.sav', 'wb'))\n",
    "pickle.dump(gram_tfidf_combination, open('no_punc_tfidf_combination_sentiment_multi_normal_5.sav', 'wb'))"
   ]
  },
  {
   "cell_type": "code",
   "execution_count": 88,
   "metadata": {
    "ExecuteTime": {
     "end_time": "2019-05-23T08:44:38.842339Z",
     "start_time": "2019-05-23T08:44:38.412811Z"
    }
   },
   "outputs": [],
   "source": [
    "X_train_title, X_test_title, y_train_title, y_test_title = train_test_split(amazon['Title'],\n",
    "                                                                             amazon['Sentiment'], test_size = 0.2)\n",
    "X_train_review, X_test_review, y_train_review, y_test_review = train_test_split(amazon['Review'],\n",
    "                                                                             amazon['Sentiment'], test_size = 0.2)\n",
    "X_train_combination, X_test_combination, y_train_combination, y_test_combination = train_test_split(amazon['Combination_all'],\n",
    "                                                                             amazon['Sentiment'], test_size = 0.2)"
   ]
  },
  {
   "cell_type": "code",
   "execution_count": 89,
   "metadata": {
    "ExecuteTime": {
     "end_time": "2019-05-23T09:15:31.943516Z",
     "start_time": "2019-05-23T08:45:08.978327Z"
    }
   },
   "outputs": [
    {
     "name": "stderr",
     "output_type": "stream",
     "text": [
      "C:\\Users\\MSI\\Anaconda3\\lib\\site-packages\\sklearn\\linear_model\\logistic.py:433: FutureWarning: Default solver will be changed to 'lbfgs' in 0.22. Specify a solver to silence this warning.\n",
      "  FutureWarning)\n",
      "C:\\Users\\MSI\\Anaconda3\\lib\\site-packages\\sklearn\\linear_model\\logistic.py:758: ConvergenceWarning: lbfgs failed to converge. Increase the number of iterations.\n",
      "  \"of iterations.\", ConvergenceWarning)\n",
      "C:\\Users\\MSI\\Anaconda3\\lib\\site-packages\\sklearn\\linear_model\\logistic.py:433: FutureWarning: Default solver will be changed to 'lbfgs' in 0.22. Specify a solver to silence this warning.\n",
      "  FutureWarning)\n",
      "C:\\Users\\MSI\\Anaconda3\\lib\\site-packages\\sklearn\\linear_model\\logistic.py:758: ConvergenceWarning: lbfgs failed to converge. Increase the number of iterations.\n",
      "  \"of iterations.\", ConvergenceWarning)\n"
     ]
    }
   ],
   "source": [
    "gram_no_tfidf_title = []\n",
    "gram_tfidf_title = []\n",
    "\n",
    " \n",
    "def pipeline_no_tfidf(X_train, X_test, y_train, y_test):\n",
    "    train_errors = []\n",
    "    test_errors = []\n",
    "    bow_transformer = CountVectorizer(analyzer='word', max_features =15000, ngram_range = (1, 2))\n",
    "    X_train = bow_transformer.fit_transform(X_train)\n",
    "    X_test = bow_transformer.transform(X_test)\n",
    "    for i in model_list:\n",
    "        train_error, test_error = calc_metrics(X_train, y_train, X_test, y_test, i)\n",
    "        train_errors.append(train_error)\n",
    "        test_errors.append(test_error)\n",
    "        error = {'train_error' : train_errors, 'test_error': test_errors}\n",
    "    return error\n",
    "gram_no_tfidf_title.append(pipeline_no_tfidf(X_train_title, X_test_title, y_train_title, y_test_title))\n",
    "    \n",
    " \n",
    "def pipeline_tfidf(X_train, X_test, y_train, y_test):\n",
    "    train_errors = []\n",
    "    test_errors = []\n",
    "    bow_transformer = CountVectorizer(analyzer='word', max_features = 15000, ngram_range = (1, 2))\n",
    "    tfidf_transformer = TfidfTransformer()\n",
    "    X_train = bow_transformer.fit_transform(X_train)\n",
    "    X_test = bow_transformer.transform(X_test)\n",
    "    X_train = tfidf_transformer.fit_transform(X_train)\n",
    "    X_test = tfidf_transformer.transform(X_test)\n",
    "    for i in model_list:\n",
    "        train_error, test_error = calc_metrics(X_train, y_train, X_test, y_test, i)\n",
    "        train_errors.append(train_error)\n",
    "        test_errors.append(test_error)\n",
    "        error = {'train_error' : train_errors, 'test_error': test_errors}\n",
    "    return error\n",
    "gram_tfidf_title.append(pipeline_tfidf(X_train_title, X_test_title, y_train_title, y_test_title))\n"
   ]
  },
  {
   "cell_type": "code",
   "execution_count": 90,
   "metadata": {
    "ExecuteTime": {
     "end_time": "2019-05-23T10:14:53.907738Z",
     "start_time": "2019-05-23T09:16:01.518831Z"
    }
   },
   "outputs": [
    {
     "name": "stderr",
     "output_type": "stream",
     "text": [
      "C:\\Users\\MSI\\Anaconda3\\lib\\site-packages\\sklearn\\linear_model\\logistic.py:433: FutureWarning: Default solver will be changed to 'lbfgs' in 0.22. Specify a solver to silence this warning.\n",
      "  FutureWarning)\n",
      "C:\\Users\\MSI\\Anaconda3\\lib\\site-packages\\sklearn\\linear_model\\logistic.py:758: ConvergenceWarning: lbfgs failed to converge. Increase the number of iterations.\n",
      "  \"of iterations.\", ConvergenceWarning)\n",
      "C:\\Users\\MSI\\Anaconda3\\lib\\site-packages\\sklearn\\linear_model\\logistic.py:433: FutureWarning: Default solver will be changed to 'lbfgs' in 0.22. Specify a solver to silence this warning.\n",
      "  FutureWarning)\n",
      "C:\\Users\\MSI\\Anaconda3\\lib\\site-packages\\sklearn\\linear_model\\logistic.py:758: ConvergenceWarning: lbfgs failed to converge. Increase the number of iterations.\n",
      "  \"of iterations.\", ConvergenceWarning)\n"
     ]
    }
   ],
   "source": [
    "gram_no_tfidf_review = []\n",
    "gram_tfidf_review = []\n",
    "\n",
    " \n",
    "def pipeline_no_tfidf(X_train, X_test, y_train, y_test):\n",
    "    train_errors = []\n",
    "    test_errors = []\n",
    "    bow_transformer = CountVectorizer(analyzer='word', max_features =15000, ngram_range = (1, 2))\n",
    "    X_train = bow_transformer.fit_transform(X_train)\n",
    "    X_test = bow_transformer.transform(X_test)\n",
    "    for i in model_list:\n",
    "        train_error, test_error = calc_metrics(X_train, y_train, X_test, y_test, i)\n",
    "        train_errors.append(train_error)\n",
    "        test_errors.append(test_error)\n",
    "        error = {'train_error' : train_errors, 'test_error': test_errors}\n",
    "    return error\n",
    "gram_no_tfidf_review.append(pipeline_no_tfidf(X_train_review, X_test_review, y_train_review, y_test_review))\n",
    "    \n",
    " \n",
    "def pipeline_tfidf(X_train, X_test, y_train, y_test):\n",
    "    train_errors = []\n",
    "    test_errors = []\n",
    "    bow_transformer = CountVectorizer(analyzer='word', max_features = 15000, ngram_range = (1, 2))\n",
    "    tfidf_transformer = TfidfTransformer()\n",
    "    X_train = bow_transformer.fit_transform(X_train)\n",
    "    X_test = bow_transformer.transform(X_test)\n",
    "    X_train = tfidf_transformer.fit_transform(X_train)\n",
    "    X_test = tfidf_transformer.transform(X_test)\n",
    "    for i in model_list:\n",
    "        train_error, test_error = calc_metrics(X_train, y_train, X_test, y_test, i)\n",
    "        train_errors.append(train_error)\n",
    "        test_errors.append(test_error)\n",
    "        error = {'train_error' : train_errors, 'test_error': test_errors}\n",
    "    return error\n",
    "gram_tfidf_review.append(pipeline_tfidf(X_train_review, X_test_review, y_train_review, y_test_review))\n"
   ]
  },
  {
   "cell_type": "code",
   "execution_count": 91,
   "metadata": {
    "ExecuteTime": {
     "end_time": "2019-05-23T11:46:12.743363Z",
     "start_time": "2019-05-23T10:15:34.262436Z"
    }
   },
   "outputs": [
    {
     "name": "stderr",
     "output_type": "stream",
     "text": [
      "C:\\Users\\MSI\\Anaconda3\\lib\\site-packages\\sklearn\\linear_model\\logistic.py:433: FutureWarning: Default solver will be changed to 'lbfgs' in 0.22. Specify a solver to silence this warning.\n",
      "  FutureWarning)\n",
      "C:\\Users\\MSI\\Anaconda3\\lib\\site-packages\\sklearn\\linear_model\\logistic.py:758: ConvergenceWarning: lbfgs failed to converge. Increase the number of iterations.\n",
      "  \"of iterations.\", ConvergenceWarning)\n",
      "C:\\Users\\MSI\\Anaconda3\\lib\\site-packages\\sklearn\\linear_model\\logistic.py:433: FutureWarning: Default solver will be changed to 'lbfgs' in 0.22. Specify a solver to silence this warning.\n",
      "  FutureWarning)\n",
      "C:\\Users\\MSI\\Anaconda3\\lib\\site-packages\\sklearn\\linear_model\\logistic.py:758: ConvergenceWarning: lbfgs failed to converge. Increase the number of iterations.\n",
      "  \"of iterations.\", ConvergenceWarning)\n"
     ]
    }
   ],
   "source": [
    "gram_no_tfidf_combination = []\n",
    "gram_tfidf_combination = []\n",
    "\n",
    " \n",
    "def pipeline_no_tfidf(X_train, X_test, y_train, y_test):\n",
    "    train_errors = []\n",
    "    test_errors = []\n",
    "    bow_transformer = CountVectorizer(analyzer='word', max_features =15000, ngram_range = (1, 2))\n",
    "    X_train = bow_transformer.fit_transform(X_train)\n",
    "    X_test = bow_transformer.transform(X_test)\n",
    "    for i in model_list:\n",
    "        train_error, test_error = calc_metrics(X_train, y_train, X_test, y_test, i)\n",
    "        train_errors.append(train_error)\n",
    "        test_errors.append(test_error)\n",
    "        error = {'train_error' : train_errors, 'test_error': test_errors}\n",
    "    return error\n",
    "gram_no_tfidf_combination.append(pipeline_no_tfidf(X_train_combination, X_test_combination, y_train_combination, y_test_combination))\n",
    "    \n",
    " \n",
    "def pipeline_tfidf(X_train, X_test, y_train, y_test):\n",
    "    train_errors = []\n",
    "    test_errors = []\n",
    "    bow_transformer = CountVectorizer(analyzer='word', max_features = 15000, ngram_range = (1, 2))\n",
    "    tfidf_transformer = TfidfTransformer()\n",
    "    X_train = bow_transformer.fit_transform(X_train)\n",
    "    X_test = bow_transformer.transform(X_test)\n",
    "    X_train = tfidf_transformer.fit_transform(X_train)\n",
    "    X_test = tfidf_transformer.transform(X_test)\n",
    "    for i in model_list:\n",
    "        train_error, test_error = calc_metrics(X_train, y_train, X_test, y_test, i)\n",
    "        train_errors.append(train_error)\n",
    "        test_errors.append(test_error)\n",
    "        error = {'train_error' : train_errors, 'test_error': test_errors}\n",
    "    return error\n",
    "gram_tfidf_combination.append(pipeline_tfidf(X_train_combination, X_test_combination, y_train_combination, y_test_combination))\n"
   ]
  },
  {
   "cell_type": "code",
   "execution_count": 92,
   "metadata": {
    "ExecuteTime": {
     "end_time": "2019-05-23T11:46:38.659668Z",
     "start_time": "2019-05-23T11:46:38.606796Z"
    }
   },
   "outputs": [],
   "source": [
    "import pickle\n",
    "pickle.dump(gram_no_tfidf_review, open('all_no_tfidf_review_sentiment_multi_normal_5.sav', 'wb'))\n",
    "pickle.dump(gram_tfidf_review, open('all_tfidf_review_sentiment_multi_normal_5.sav', 'wb'))\n",
    "pickle.dump(gram_no_tfidf_title, open('all_no_tfidf_title_sentiment_multi_normal_5.sav', 'wb'))\n",
    "pickle.dump(gram_tfidf_title, open('all_tfidf_title_sentiment_multi_normal_5.sav', 'wb'))\n",
    "pickle.dump(gram_no_tfidf_combination, open('all_no_tfidf_combination_sentiment_multi_normal_5.sav', 'wb'))\n",
    "pickle.dump(gram_tfidf_combination, open('all_tfidf_combination_sentiment_multi_normal_5.sav', 'wb'))"
   ]
  },
  {
   "cell_type": "code",
   "execution_count": null,
   "metadata": {},
   "outputs": [],
   "source": []
  }
 ],
 "metadata": {
  "hide_input": false,
  "kernelspec": {
   "display_name": "Python 3",
   "language": "python",
   "name": "python3"
  },
  "language_info": {
   "codemirror_mode": {
    "name": "ipython",
    "version": 3
   },
   "file_extension": ".py",
   "mimetype": "text/x-python",
   "name": "python",
   "nbconvert_exporter": "python",
   "pygments_lexer": "ipython3",
   "version": "3.7.1"
  },
  "varInspector": {
   "cols": {
    "lenName": 16,
    "lenType": 16,
    "lenVar": 40
   },
   "kernels_config": {
    "python": {
     "delete_cmd_postfix": "",
     "delete_cmd_prefix": "del ",
     "library": "var_list.py",
     "varRefreshCmd": "print(var_dic_list())"
    },
    "r": {
     "delete_cmd_postfix": ") ",
     "delete_cmd_prefix": "rm(",
     "library": "var_list.r",
     "varRefreshCmd": "cat(var_dic_list()) "
    }
   },
   "types_to_exclude": [
    "module",
    "function",
    "builtin_function_or_method",
    "instance",
    "_Feature"
   ],
   "window_display": false
  }
 },
 "nbformat": 4,
 "nbformat_minor": 2
}
