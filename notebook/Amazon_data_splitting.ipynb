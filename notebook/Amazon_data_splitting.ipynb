{
 "cells": [
  {
   "cell_type": "code",
   "execution_count": 1,
   "metadata": {
    "ExecuteTime": {
     "end_time": "2019-05-18T05:16:07.752631Z",
     "start_time": "2019-05-18T05:15:57.207836Z"
    }
   },
   "outputs": [],
   "source": [
    "import pandas as pd"
   ]
  },
  {
   "cell_type": "markdown",
   "metadata": {},
   "source": [
    "## Loading all the data"
   ]
  },
  {
   "cell_type": "code",
   "execution_count": 2,
   "metadata": {
    "ExecuteTime": {
     "end_time": "2019-05-18T05:17:10.018098Z",
     "start_time": "2019-05-18T05:16:07.757620Z"
    }
   },
   "outputs": [],
   "source": [
    "X = pd.read_csv('train.csv', header = None, names = ['Rating', 'Title', 'Review'])\n",
    "y = pd.read_csv('test.csv', header = None, names = ['Rating', 'Title', 'Review'])"
   ]
  },
  {
   "cell_type": "code",
   "execution_count": 3,
   "metadata": {
    "ExecuteTime": {
     "end_time": "2019-05-18T05:17:10.482852Z",
     "start_time": "2019-05-18T05:17:10.021090Z"
    }
   },
   "outputs": [],
   "source": [
    "amazon = pd.concat([X,y]).reset_index(drop = True)"
   ]
  },
  {
   "cell_type": "markdown",
   "metadata": {},
   "source": [
    "There are 3+ million data with NA values"
   ]
  },
  {
   "cell_type": "code",
   "execution_count": 4,
   "metadata": {
    "ExecuteTime": {
     "end_time": "2019-05-18T05:17:10.498812Z",
     "start_time": "2019-05-18T05:17:10.486843Z"
    }
   },
   "outputs": [
    {
     "name": "stdout",
     "output_type": "stream",
     "text": [
      "<class 'pandas.core.frame.DataFrame'>\n",
      "RangeIndex: 3650000 entries, 0 to 3649999\n",
      "Data columns (total 3 columns):\n",
      "Rating    int64\n",
      "Title     object\n",
      "Review    object\n",
      "dtypes: int64(1), object(2)\n",
      "memory usage: 83.5+ MB\n"
     ]
    }
   ],
   "source": [
    "amazon.info()"
   ]
  },
  {
   "cell_type": "code",
   "execution_count": 5,
   "metadata": {
    "ExecuteTime": {
     "end_time": "2019-05-18T05:17:11.384440Z",
     "start_time": "2019-05-18T05:17:10.503801Z"
    }
   },
   "outputs": [
    {
     "data": {
      "text/plain": [
       "Rating    False\n",
       "Title      True\n",
       "Review    False\n",
       "dtype: bool"
      ]
     },
     "execution_count": 5,
     "metadata": {},
     "output_type": "execute_result"
    }
   ],
   "source": [
    "amazon.isna().any()"
   ]
  },
  {
   "cell_type": "code",
   "execution_count": 6,
   "metadata": {
    "ExecuteTime": {
     "end_time": "2019-05-18T05:17:11.963893Z",
     "start_time": "2019-05-18T05:17:11.387432Z"
    }
   },
   "outputs": [
    {
     "name": "stdout",
     "output_type": "stream",
     "text": [
      "Banyak Row\n",
      "Rating 1 : 730000\n",
      "Rating 2 : 730000\n",
      "Rating 3 : 730000\n",
      "Rating 4 : 730000\n",
      "Rating 5 : 730000\n"
     ]
    }
   ],
   "source": [
    "print('Banyak Row')\n",
    "for i in range(1,6):\n",
    "    print('Rating {} : {}'.format(i,len(amazon[(amazon['Rating'] == i)])))"
   ]
  },
  {
   "cell_type": "code",
   "execution_count": 7,
   "metadata": {
    "ExecuteTime": {
     "end_time": "2019-05-18T05:17:12.947262Z",
     "start_time": "2019-05-18T05:17:11.964890Z"
    }
   },
   "outputs": [
    {
     "name": "stdout",
     "output_type": "stream",
     "text": [
      "Banyak NaN\n",
      "Rating 1 : 13\n",
      "Rating 2 : 24\n",
      "Rating 3 : 24\n",
      "Rating 4 : 17\n",
      "Rating 5 : 10\n"
     ]
    }
   ],
   "source": [
    "print('Banyak NaN')\n",
    "for i in range(1,6):\n",
    "    print('Rating {} : {}'.format(i,len(amazon[(amazon['Rating'] == i) & (amazon['Title'].isna())])))"
   ]
  },
  {
   "cell_type": "code",
   "execution_count": 8,
   "metadata": {
    "ExecuteTime": {
     "end_time": "2019-05-18T05:17:13.124788Z",
     "start_time": "2019-05-18T05:17:12.948261Z"
    }
   },
   "outputs": [
    {
     "data": {
      "text/html": [
       "<div>\n",
       "<style scoped>\n",
       "    .dataframe tbody tr th:only-of-type {\n",
       "        vertical-align: middle;\n",
       "    }\n",
       "\n",
       "    .dataframe tbody tr th {\n",
       "        vertical-align: top;\n",
       "    }\n",
       "\n",
       "    .dataframe thead th {\n",
       "        text-align: right;\n",
       "    }\n",
       "</style>\n",
       "<table border=\"1\" class=\"dataframe\">\n",
       "  <thead>\n",
       "    <tr style=\"text-align: right;\">\n",
       "      <th></th>\n",
       "      <th>Rating</th>\n",
       "      <th>Title</th>\n",
       "      <th>Review</th>\n",
       "    </tr>\n",
       "  </thead>\n",
       "  <tbody>\n",
       "    <tr>\n",
       "      <th>22001</th>\n",
       "      <td>2</td>\n",
       "      <td>NaN</td>\n",
       "      <td>What separates this band from Evanescence (bes...</td>\n",
       "    </tr>\n",
       "    <tr>\n",
       "      <th>104196</th>\n",
       "      <td>4</td>\n",
       "      <td>NaN</td>\n",
       "      <td>I would highly recommend this book. It tells t...</td>\n",
       "    </tr>\n",
       "    <tr>\n",
       "      <th>124729</th>\n",
       "      <td>2</td>\n",
       "      <td>NaN</td>\n",
       "      <td>This Japanese band produces noisy, psychotic R...</td>\n",
       "    </tr>\n",
       "    <tr>\n",
       "      <th>144733</th>\n",
       "      <td>2</td>\n",
       "      <td>NaN</td>\n",
       "      <td>this cd isnt band but i wouldnt buy it because...</td>\n",
       "    </tr>\n",
       "    <tr>\n",
       "      <th>222764</th>\n",
       "      <td>3</td>\n",
       "      <td>NaN</td>\n",
       "      <td>value for the money. enjoyable, convenient, ea...</td>\n",
       "    </tr>\n",
       "  </tbody>\n",
       "</table>\n",
       "</div>"
      ],
      "text/plain": [
       "        Rating Title                                             Review\n",
       "22001        2   NaN  What separates this band from Evanescence (bes...\n",
       "104196       4   NaN  I would highly recommend this book. It tells t...\n",
       "124729       2   NaN  This Japanese band produces noisy, psychotic R...\n",
       "144733       2   NaN  this cd isnt band but i wouldnt buy it because...\n",
       "222764       3   NaN  value for the money. enjoyable, convenient, ea..."
      ]
     },
     "execution_count": 8,
     "metadata": {},
     "output_type": "execute_result"
    }
   ],
   "source": [
    "amazon[amazon['Title'].isna()].head()"
   ]
  },
  {
   "cell_type": "markdown",
   "metadata": {},
   "source": [
    "Not many NA compared to the size of the data, I assumes that the NAs is safe to be dropped"
   ]
  },
  {
   "cell_type": "code",
   "execution_count": 9,
   "metadata": {
    "ExecuteTime": {
     "end_time": "2019-05-18T05:17:14.302635Z",
     "start_time": "2019-05-18T05:17:13.125786Z"
    }
   },
   "outputs": [],
   "source": [
    "amazon.dropna(inplace = True)"
   ]
  },
  {
   "cell_type": "markdown",
   "metadata": {},
   "source": [
    "As sample representation, I only took around 5 percent of the data"
   ]
  },
  {
   "cell_type": "code",
   "execution_count": 10,
   "metadata": {
    "ExecuteTime": {
     "end_time": "2019-05-18T05:17:17.631760Z",
     "start_time": "2019-05-18T05:17:14.303636Z"
    }
   },
   "outputs": [],
   "source": [
    "from sklearn.model_selection import train_test_split\n",
    "\n",
    "data_dict = {}"
   ]
  },
  {
   "cell_type": "code",
   "execution_count": 11,
   "metadata": {
    "ExecuteTime": {
     "end_time": "2019-05-18T05:17:20.644706Z",
     "start_time": "2019-05-18T05:17:17.633728Z"
    },
    "code_folding": []
   },
   "outputs": [],
   "source": [
    "for i in range(1,6):\n",
    "    X_train, X_test, y_train, y_test = train_test_split(amazon[amazon['Rating'] == i].drop('Rating', axis =1), amazon[amazon['Rating'] == i]['Rating'], test_size = 0.05)\n",
    "    data_dict[i] = pd.concat([X_test, y_test], axis = 1)\n",
    "\n",
    "data = pd.concat([data_dict[1], data_dict[2], data_dict[3], data_dict[4], data_dict[5]])    "
   ]
  },
  {
   "cell_type": "code",
   "execution_count": 12,
   "metadata": {
    "ExecuteTime": {
     "end_time": "2019-05-18T05:17:20.715490Z",
     "start_time": "2019-05-18T05:17:20.645672Z"
    }
   },
   "outputs": [
    {
     "name": "stdout",
     "output_type": "stream",
     "text": [
      "<class 'pandas.core.frame.DataFrame'>\n",
      "Int64Index: 182498 entries, 1685882 to 3034437\n",
      "Data columns (total 3 columns):\n",
      "Title     182498 non-null object\n",
      "Review    182498 non-null object\n",
      "Rating    182498 non-null int64\n",
      "dtypes: int64(1), object(2)\n",
      "memory usage: 5.6+ MB\n"
     ]
    }
   ],
   "source": [
    "data.info()"
   ]
  },
  {
   "cell_type": "code",
   "execution_count": 14,
   "metadata": {
    "ExecuteTime": {
     "end_time": "2019-05-18T05:17:20.765353Z",
     "start_time": "2019-05-18T05:17:20.726456Z"
    }
   },
   "outputs": [
    {
     "name": "stdout",
     "output_type": "stream",
     "text": [
      "36500\n",
      "36499\n",
      "36499\n",
      "36500\n",
      "36500\n"
     ]
    }
   ],
   "source": [
    "for i in range(1,6):\n",
    "    print(len(data[data['Rating'] == i]))"
   ]
  },
  {
   "cell_type": "code",
   "execution_count": 15,
   "metadata": {
    "ExecuteTime": {
     "end_time": "2019-05-18T05:17:23.599798Z",
     "start_time": "2019-05-18T05:17:20.766349Z"
    }
   },
   "outputs": [],
   "source": [
    "data.to_csv('amazon_5_percent.csv', index = False)"
   ]
  },
  {
   "cell_type": "code",
   "execution_count": null,
   "metadata": {},
   "outputs": [],
   "source": []
  }
 ],
 "metadata": {
  "hide_input": false,
  "kernelspec": {
   "display_name": "Python 3",
   "language": "python",
   "name": "python3"
  },
  "language_info": {
   "codemirror_mode": {
    "name": "ipython",
    "version": 3
   },
   "file_extension": ".py",
   "mimetype": "text/x-python",
   "name": "python",
   "nbconvert_exporter": "python",
   "pygments_lexer": "ipython3",
   "version": "3.7.1"
  },
  "varInspector": {
   "cols": {
    "lenName": 16,
    "lenType": 16,
    "lenVar": 40
   },
   "kernels_config": {
    "python": {
     "delete_cmd_postfix": "",
     "delete_cmd_prefix": "del ",
     "library": "var_list.py",
     "varRefreshCmd": "print(var_dic_list())"
    },
    "r": {
     "delete_cmd_postfix": ") ",
     "delete_cmd_prefix": "rm(",
     "library": "var_list.r",
     "varRefreshCmd": "cat(var_dic_list()) "
    }
   },
   "types_to_exclude": [
    "module",
    "function",
    "builtin_function_or_method",
    "instance",
    "_Feature"
   ],
   "window_display": false
  }
 },
 "nbformat": 4,
 "nbformat_minor": 2
}
