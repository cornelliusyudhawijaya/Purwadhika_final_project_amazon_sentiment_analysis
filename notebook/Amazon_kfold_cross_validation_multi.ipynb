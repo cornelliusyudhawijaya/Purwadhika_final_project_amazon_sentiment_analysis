{
 "cells": [
  {
   "cell_type": "code",
   "execution_count": 1,
   "metadata": {
    "ExecuteTime": {
     "end_time": "2019-05-26T05:10:25.348260Z",
     "start_time": "2019-05-26T05:10:21.739010Z"
    }
   },
   "outputs": [],
   "source": [
    "import pandas as pd\n",
    "import numpy as np\n",
    "import seaborn as sns\n",
    "import matplotlib.pyplot as plt\n",
    "import re\n",
    "import nltk\n",
    "from nltk.corpus import stopwords \n",
    "%matplotlib inline"
   ]
  },
  {
   "cell_type": "code",
   "execution_count": 2,
   "metadata": {
    "ExecuteTime": {
     "end_time": "2019-05-26T05:10:44.869042Z",
     "start_time": "2019-05-26T05:10:25.349258Z"
    },
    "code_folding": [
     1
    ]
   },
   "outputs": [],
   "source": [
    "amazon = pd.read_csv('amazon_5_percent.csv')\n",
    "def sentiment(rating):\n",
    "    if (rating == 1) or (rating == 2):\n",
    "        return 'Negative'\n",
    "    elif rating == 3:\n",
    "        return 'Neutral'\n",
    "    else:\n",
    "        return 'Positive'\n",
    "amazon['Sentiment'] = amazon['Rating'].apply(sentiment)\n",
    "def all_word(word):\n",
    "    letters_only = re.sub(\"[^a-zA-Z]\", \" \", word)\n",
    "    words = letters_only.lower().split()\n",
    "    return (\" \".join(words))\n",
    "\n",
    "amazon['Title_no_punc'] = amazon['Title'].apply(all_word)\n",
    "amazon['Review_no_punc'] = amazon['Review'].apply(all_word)\n",
    "\n",
    "stops = list(stopwords.words('english'))\n",
    "stops.extend(['book', 'product', 'movie', 'music', 'album', 'cd'])\n",
    "stops = set(stops)\n",
    "\n",
    "\n",
    "def meaningful_word_specific(word):\n",
    "    letters_only = re.sub(\"[^a-zA-Z]\", \" \", word)\n",
    "    words = letters_only.lower().split()   \n",
    "    meaningful_words = [w for w in words if not w in stops] \n",
    "    return( \" \".join( meaningful_words ))\n",
    "\n",
    "amazon['Title_meaningful'] = amazon['Title_no_punc'].apply(meaningful_word_specific)\n",
    "amazon['Review_meaningful'] = amazon['Review_no_punc'].apply(meaningful_word_specific)\n",
    "\n",
    "amazon['Combination'] = amazon[['Title_meaningful', 'Review_meaningful']].apply(lambda x:(x['Title_meaningful'] +' '+ x['Review_meaningful']) , axis = 1)"
   ]
  },
  {
   "cell_type": "code",
   "execution_count": 3,
   "metadata": {
    "ExecuteTime": {
     "end_time": "2019-05-26T05:10:44.887963Z",
     "start_time": "2019-05-26T05:10:44.872001Z"
    }
   },
   "outputs": [],
   "source": [
    "from sklearn.linear_model import LogisticRegression\n",
    "from sklearn.feature_extraction.text import CountVectorizer, TfidfTransformer\n",
    "from sklearn.metrics import classification_report, confusion_matrix, accuracy_score, f1_score, log_loss\n",
    "from sklearn.model_selection import cross_val_score, learning_curve, KFold, GridSearchCV, train_test_split\n",
    "from sklearn.pipeline import Pipeline"
   ]
  },
  {
   "cell_type": "markdown",
   "metadata": {},
   "source": [
    "## Validate the model stabilty by KFold (n_split = 5)"
   ]
  },
  {
   "cell_type": "code",
   "execution_count": 4,
   "metadata": {
    "ExecuteTime": {
     "end_time": "2019-05-26T05:10:44.898934Z",
     "start_time": "2019-05-26T05:10:44.893972Z"
    }
   },
   "outputs": [],
   "source": [
    "kf = KFold(n_splits = 5, shuffle= True)"
   ]
  },
  {
   "cell_type": "code",
   "execution_count": 5,
   "metadata": {
    "ExecuteTime": {
     "end_time": "2019-05-26T05:10:44.908902Z",
     "start_time": "2019-05-26T05:10:44.901923Z"
    }
   },
   "outputs": [],
   "source": [
    "title = amazon['Title']\n",
    "review = amazon['Review']\n",
    "sentiment = amazon['Sentiment']\n",
    "combination = amazon['Combination']"
   ]
  },
  {
   "cell_type": "code",
   "execution_count": 6,
   "metadata": {
    "ExecuteTime": {
     "end_time": "2019-05-26T05:10:44.914897Z",
     "start_time": "2019-05-26T05:10:44.910898Z"
    }
   },
   "outputs": [],
   "source": [
    "model_1vR = LogisticRegression(multi_class='ovr', class_weight='balanced')"
   ]
  },
  {
   "cell_type": "code",
   "execution_count": 7,
   "metadata": {
    "ExecuteTime": {
     "end_time": "2019-05-26T05:10:44.989686Z",
     "start_time": "2019-05-26T05:10:44.917880Z"
    }
   },
   "outputs": [],
   "source": [
    "from sklearn.utils import shuffle\n",
    "title,review, combination, sentiment = shuffle(title, review, combination, sentiment)"
   ]
  },
  {
   "cell_type": "code",
   "execution_count": 8,
   "metadata": {
    "ExecuteTime": {
     "end_time": "2019-05-26T05:10:45.001655Z",
     "start_time": "2019-05-26T05:10:44.990685Z"
    },
    "code_folding": [
     0,
     15,
     30
    ]
   },
   "outputs": [],
   "source": [
    "def calc_train_error(X_train, y_train, model):\n",
    "    predictions = model.predict(X_train)\n",
    "    predictProba = model.predict_proba(X_train)\n",
    "    f1 = f1_score(y_train, predictions, average ='macro')\n",
    "    report = classification_report(y_train, predictions)\n",
    "    accuracy = accuracy_score(y_train, predictions)\n",
    "    confMatrix = confusion_matrix(y_train, predictions)\n",
    "    logloss = log_loss(y_train,predictProba)\n",
    "    return{\n",
    "        'report' : report, \n",
    "        'f1' : f1,\n",
    "        'accuracy': accuracy,\n",
    "        'confusion': confMatrix,\n",
    "        'logloss' : logloss\n",
    "    }\n",
    "def calc_validation_error(X_test, y_test, model):\n",
    "    predictions = model.predict(X_test)\n",
    "    predictProba = model.predict_proba(X_test)\n",
    "    f1 = f1_score(y_test, predictions, average ='macro')\n",
    "    report = classification_report(y_test, predictions)\n",
    "    accuracy = accuracy_score(y_test, predictions)\n",
    "    confMatrix = confusion_matrix(y_test, predictions)\n",
    "    logloss = log_loss(y_test,predictProba)\n",
    "    return{\n",
    "        'report' : report, \n",
    "        'f1' : f1,\n",
    "        'accuracy': accuracy,\n",
    "        'confusion': confMatrix,\n",
    "        'logloss' : logloss\n",
    "    }\n",
    "def calc_metrics(X_train, y_train, X_test, y_test, model):\n",
    "    model.fit(X_train, y_train)\n",
    "    train_error = calc_train_error(X_train, y_train, model)\n",
    "    validation_error = calc_validation_error(X_test, y_test, model)\n",
    "    return train_error, validation_error"
   ]
  },
  {
   "cell_type": "code",
   "execution_count": 9,
   "metadata": {
    "ExecuteTime": {
     "end_time": "2019-05-26T05:10:45.009633Z",
     "start_time": "2019-05-26T05:10:45.003650Z"
    }
   },
   "outputs": [],
   "source": [
    "def pipeline_tfidf_1vr(X_train, X_test, y_train, y_test):\n",
    "    pipeline = Pipeline([('bow', CountVectorizer(analyzer='word', max_features =30000, ngram_range=(1,2))),\n",
    "                         ('tfidf', TfidfTransformer()),\n",
    "                         ('classifier', model_1vR)])\n",
    "    train_error, test_error = calc_metrics(X_train, y_train, X_test, y_test, pipeline)\n",
    "    error = {'train_error' : train_error, 'test_error': test_error}\n",
    "    return error\n"
   ]
  },
  {
   "cell_type": "code",
   "execution_count": 10,
   "metadata": {
    "ExecuteTime": {
     "end_time": "2019-05-26T05:12:01.115081Z",
     "start_time": "2019-05-26T05:10:45.010630Z"
    }
   },
   "outputs": [
    {
     "name": "stderr",
     "output_type": "stream",
     "text": [
      "C:\\Users\\MSI\\Anaconda3\\lib\\site-packages\\sklearn\\linear_model\\logistic.py:433: FutureWarning: Default solver will be changed to 'lbfgs' in 0.22. Specify a solver to silence this warning.\n",
      "  FutureWarning)\n",
      "C:\\Users\\MSI\\Anaconda3\\lib\\site-packages\\sklearn\\linear_model\\logistic.py:433: FutureWarning: Default solver will be changed to 'lbfgs' in 0.22. Specify a solver to silence this warning.\n",
      "  FutureWarning)\n",
      "C:\\Users\\MSI\\Anaconda3\\lib\\site-packages\\sklearn\\linear_model\\logistic.py:433: FutureWarning: Default solver will be changed to 'lbfgs' in 0.22. Specify a solver to silence this warning.\n",
      "  FutureWarning)\n",
      "C:\\Users\\MSI\\Anaconda3\\lib\\site-packages\\sklearn\\linear_model\\logistic.py:433: FutureWarning: Default solver will be changed to 'lbfgs' in 0.22. Specify a solver to silence this warning.\n",
      "  FutureWarning)\n",
      "C:\\Users\\MSI\\Anaconda3\\lib\\site-packages\\sklearn\\linear_model\\logistic.py:433: FutureWarning: Default solver will be changed to 'lbfgs' in 0.22. Specify a solver to silence this warning.\n",
      "  FutureWarning)\n"
     ]
    }
   ],
   "source": [
    "error_tfidf_1vr_title = []\n",
    "for train_index, val_index in kf.split(title, sentiment):\n",
    "    \n",
    "    X_train, X_test = title.iloc[train_index], title.iloc[val_index]\n",
    "    y_train, y_test = sentiment.iloc[train_index], sentiment.iloc[val_index]\n",
    "    \n",
    "    error_tfidf_1vr_title.append(pipeline_tfidf_1vr(X_train, X_test, y_train, y_test))"
   ]
  },
  {
   "cell_type": "code",
   "execution_count": 11,
   "metadata": {
    "ExecuteTime": {
     "end_time": "2019-05-26T05:19:04.907511Z",
     "start_time": "2019-05-26T05:12:01.116063Z"
    }
   },
   "outputs": [
    {
     "name": "stderr",
     "output_type": "stream",
     "text": [
      "C:\\Users\\MSI\\Anaconda3\\lib\\site-packages\\sklearn\\linear_model\\logistic.py:433: FutureWarning: Default solver will be changed to 'lbfgs' in 0.22. Specify a solver to silence this warning.\n",
      "  FutureWarning)\n",
      "C:\\Users\\MSI\\Anaconda3\\lib\\site-packages\\sklearn\\linear_model\\logistic.py:433: FutureWarning: Default solver will be changed to 'lbfgs' in 0.22. Specify a solver to silence this warning.\n",
      "  FutureWarning)\n",
      "C:\\Users\\MSI\\Anaconda3\\lib\\site-packages\\sklearn\\linear_model\\logistic.py:433: FutureWarning: Default solver will be changed to 'lbfgs' in 0.22. Specify a solver to silence this warning.\n",
      "  FutureWarning)\n",
      "C:\\Users\\MSI\\Anaconda3\\lib\\site-packages\\sklearn\\linear_model\\logistic.py:433: FutureWarning: Default solver will be changed to 'lbfgs' in 0.22. Specify a solver to silence this warning.\n",
      "  FutureWarning)\n",
      "C:\\Users\\MSI\\Anaconda3\\lib\\site-packages\\sklearn\\linear_model\\logistic.py:433: FutureWarning: Default solver will be changed to 'lbfgs' in 0.22. Specify a solver to silence this warning.\n",
      "  FutureWarning)\n"
     ]
    }
   ],
   "source": [
    "error_tfidf_1vr_review = []\n",
    "for train_index, val_index in kf.split(review, sentiment):\n",
    "    \n",
    "    X_train, X_test = review.iloc[train_index], review.iloc[val_index]\n",
    "    y_train, y_test = sentiment.iloc[train_index], sentiment.iloc[val_index]\n",
    "    \n",
    "    error_tfidf_1vr_review.append(pipeline_tfidf_1vr(X_train, X_test, y_train, y_test))"
   ]
  },
  {
   "cell_type": "code",
   "execution_count": 12,
   "metadata": {
    "ExecuteTime": {
     "end_time": "2019-05-26T05:24:09.898737Z",
     "start_time": "2019-05-26T05:19:04.909510Z"
    }
   },
   "outputs": [
    {
     "name": "stderr",
     "output_type": "stream",
     "text": [
      "C:\\Users\\MSI\\Anaconda3\\lib\\site-packages\\sklearn\\linear_model\\logistic.py:433: FutureWarning: Default solver will be changed to 'lbfgs' in 0.22. Specify a solver to silence this warning.\n",
      "  FutureWarning)\n",
      "C:\\Users\\MSI\\Anaconda3\\lib\\site-packages\\sklearn\\linear_model\\logistic.py:433: FutureWarning: Default solver will be changed to 'lbfgs' in 0.22. Specify a solver to silence this warning.\n",
      "  FutureWarning)\n",
      "C:\\Users\\MSI\\Anaconda3\\lib\\site-packages\\sklearn\\linear_model\\logistic.py:433: FutureWarning: Default solver will be changed to 'lbfgs' in 0.22. Specify a solver to silence this warning.\n",
      "  FutureWarning)\n",
      "C:\\Users\\MSI\\Anaconda3\\lib\\site-packages\\sklearn\\linear_model\\logistic.py:433: FutureWarning: Default solver will be changed to 'lbfgs' in 0.22. Specify a solver to silence this warning.\n",
      "  FutureWarning)\n",
      "C:\\Users\\MSI\\Anaconda3\\lib\\site-packages\\sklearn\\linear_model\\logistic.py:433: FutureWarning: Default solver will be changed to 'lbfgs' in 0.22. Specify a solver to silence this warning.\n",
      "  FutureWarning)\n"
     ]
    }
   ],
   "source": [
    "error_tfidf_1vr_combination = []\n",
    "for train_index, val_index in kf.split(combination, sentiment):\n",
    "    \n",
    "    X_train, X_test = combination.iloc[train_index], combination.iloc[val_index]\n",
    "    y_train, y_test = sentiment.iloc[train_index], sentiment.iloc[val_index]\n",
    "    \n",
    "    error_tfidf_1vr_combination.append(pipeline_tfidf_1vr(X_train, X_test, y_train, y_test))"
   ]
  },
  {
   "cell_type": "code",
   "execution_count": 32,
   "metadata": {
    "ExecuteTime": {
     "end_time": "2019-05-26T06:31:48.700875Z",
     "start_time": "2019-05-26T06:31:48.683895Z"
    },
    "code_folding": [
     0
    ]
   },
   "outputs": [
    {
     "data": {
      "text/html": [
       "<div>\n",
       "<style scoped>\n",
       "    .dataframe tbody tr th:only-of-type {\n",
       "        vertical-align: middle;\n",
       "    }\n",
       "\n",
       "    .dataframe tbody tr th {\n",
       "        vertical-align: top;\n",
       "    }\n",
       "\n",
       "    .dataframe thead th {\n",
       "        text-align: right;\n",
       "    }\n",
       "</style>\n",
       "<table border=\"1\" class=\"dataframe\">\n",
       "  <thead>\n",
       "    <tr style=\"text-align: right;\">\n",
       "      <th></th>\n",
       "      <th>Train Accuracy</th>\n",
       "      <th>Train F1 Score</th>\n",
       "      <th>Train Log Loss</th>\n",
       "      <th>Test Accuracy</th>\n",
       "      <th>Test F1 Score</th>\n",
       "      <th>Test Log Loss</th>\n",
       "    </tr>\n",
       "  </thead>\n",
       "  <tbody>\n",
       "    <tr>\n",
       "      <th>Iteration 1</th>\n",
       "      <td>0.748921</td>\n",
       "      <td>0.710657</td>\n",
       "      <td>0.655053</td>\n",
       "      <td>0.675726</td>\n",
       "      <td>0.623452</td>\n",
       "      <td>0.749617</td>\n",
       "    </tr>\n",
       "    <tr>\n",
       "      <th>Iteration 2</th>\n",
       "      <td>0.746579</td>\n",
       "      <td>0.708142</td>\n",
       "      <td>0.656347</td>\n",
       "      <td>0.679616</td>\n",
       "      <td>0.629484</td>\n",
       "      <td>0.746037</td>\n",
       "    </tr>\n",
       "    <tr>\n",
       "      <th>Iteration 3</th>\n",
       "      <td>0.749318</td>\n",
       "      <td>0.711297</td>\n",
       "      <td>0.654991</td>\n",
       "      <td>0.672740</td>\n",
       "      <td>0.621098</td>\n",
       "      <td>0.748551</td>\n",
       "    </tr>\n",
       "    <tr>\n",
       "      <th>Iteration 4</th>\n",
       "      <td>0.749135</td>\n",
       "      <td>0.710873</td>\n",
       "      <td>0.655698</td>\n",
       "      <td>0.677197</td>\n",
       "      <td>0.626178</td>\n",
       "      <td>0.745640</td>\n",
       "    </tr>\n",
       "    <tr>\n",
       "      <th>Iteration 5</th>\n",
       "      <td>0.748615</td>\n",
       "      <td>0.710170</td>\n",
       "      <td>0.655471</td>\n",
       "      <td>0.675553</td>\n",
       "      <td>0.626230</td>\n",
       "      <td>0.746204</td>\n",
       "    </tr>\n",
       "    <tr>\n",
       "      <th>Average</th>\n",
       "      <td>0.748514</td>\n",
       "      <td>0.710228</td>\n",
       "      <td>0.655512</td>\n",
       "      <td>0.676166</td>\n",
       "      <td>0.625288</td>\n",
       "      <td>0.747210</td>\n",
       "    </tr>\n",
       "  </tbody>\n",
       "</table>\n",
       "</div>"
      ],
      "text/plain": [
       "             Train Accuracy  Train F1 Score  Train Log Loss  Test Accuracy  \\\n",
       "Iteration 1        0.748921        0.710657        0.655053       0.675726   \n",
       "Iteration 2        0.746579        0.708142        0.656347       0.679616   \n",
       "Iteration 3        0.749318        0.711297        0.654991       0.672740   \n",
       "Iteration 4        0.749135        0.710873        0.655698       0.677197   \n",
       "Iteration 5        0.748615        0.710170        0.655471       0.675553   \n",
       "Average            0.748514        0.710228        0.655512       0.676166   \n",
       "\n",
       "             Test F1 Score  Test Log Loss  \n",
       "Iteration 1       0.623452       0.749617  \n",
       "Iteration 2       0.629484       0.746037  \n",
       "Iteration 3       0.621098       0.748551  \n",
       "Iteration 4       0.626178       0.745640  \n",
       "Iteration 5       0.626230       0.746204  \n",
       "Average           0.625288       0.747210  "
      ]
     },
     "execution_count": 32,
     "metadata": {},
     "output_type": "execute_result"
    }
   ],
   "source": [
    "def create_df_kfold(error):\n",
    "    matrix = []\n",
    "    for i in error:\n",
    "        matrix.append([i['train_error']['accuracy'], i['train_error']['f1'], i['train_error']['logloss'],\n",
    "                  i['test_error']['accuracy'], i['test_error']['f1'], i['test_error']['logloss']\n",
    "                  ])\n",
    "\n",
    "    calc_error = pd.DataFrame(matrix, columns = ['Train Accuracy', 'Train F1 Score', 'Train Log Loss', \n",
    "                                             \n",
    "                                             'Test Accuracy', 'Test F1 Score', 'Test Log Loss',\n",
    "                                             ])\n",
    "    average = []\n",
    "    for i in calc_error:\n",
    "        average.append(calc_error[i].mean())\n",
    "    matrix.append(average)\n",
    "    \n",
    "    calc_error = pd.DataFrame(matrix, columns = ['Train Accuracy', 'Train F1 Score', 'Train Log Loss', \n",
    "                                             \n",
    "                                             'Test Accuracy', 'Test F1 Score', 'Test Log Loss',\n",
    "                                             ])\n",
    "\n",
    "    calc_error.index = ['Iteration 1', 'Iteration 2', 'Iteration 3', 'Iteration 4', 'Iteration 5', 'Average']\n",
    "    return calc_error\n",
    "create_df_kfold(error_tfidf_1vr_title)"
   ]
  },
  {
   "cell_type": "code",
   "execution_count": 29,
   "metadata": {
    "ExecuteTime": {
     "end_time": "2019-05-26T06:31:02.687127Z",
     "start_time": "2019-05-26T06:31:02.682146Z"
    }
   },
   "outputs": [
    {
     "name": "stdout",
     "output_type": "stream",
     "text": [
      "Iteration Title 1\n",
      "              precision    recall  f1-score   support\n",
      "\n",
      "    Negative       0.73      0.71      0.72     14568\n",
      "     Neutral       0.43      0.36      0.39      7207\n",
      "    Positive       0.72      0.79      0.75     14725\n",
      "\n",
      "   micro avg       0.68      0.68      0.68     36500\n",
      "   macro avg       0.63      0.62      0.62     36500\n",
      "weighted avg       0.67      0.68      0.67     36500\n",
      "\n",
      "Iteration Title 2\n",
      "              precision    recall  f1-score   support\n",
      "\n",
      "    Negative       0.74      0.72      0.73     14579\n",
      "     Neutral       0.44      0.37      0.41      7311\n",
      "    Positive       0.72      0.79      0.75     14610\n",
      "\n",
      "   micro avg       0.68      0.68      0.68     36500\n",
      "   macro avg       0.63      0.63      0.63     36500\n",
      "weighted avg       0.67      0.68      0.67     36500\n",
      "\n",
      "Iteration Title 3\n",
      "              precision    recall  f1-score   support\n",
      "\n",
      "    Negative       0.73      0.72      0.72     14568\n",
      "     Neutral       0.43      0.36      0.39      7338\n",
      "    Positive       0.71      0.79      0.75     14594\n",
      "\n",
      "   micro avg       0.67      0.67      0.67     36500\n",
      "   macro avg       0.62      0.62      0.62     36500\n",
      "weighted avg       0.66      0.67      0.67     36500\n",
      "\n",
      "Iteration Title 4\n",
      "              precision    recall  f1-score   support\n",
      "\n",
      "    Negative       0.73      0.72      0.72     14528\n",
      "     Neutral       0.44      0.37      0.40      7311\n",
      "    Positive       0.72      0.79      0.75     14660\n",
      "\n",
      "   micro avg       0.68      0.68      0.68     36499\n",
      "   macro avg       0.63      0.63      0.63     36499\n",
      "weighted avg       0.67      0.68      0.67     36499\n",
      "\n",
      "Iteration Title 5\n",
      "              precision    recall  f1-score   support\n",
      "\n",
      "    Negative       0.74      0.72      0.73     14756\n",
      "     Neutral       0.44      0.37      0.40      7332\n",
      "    Positive       0.71      0.79      0.75     14411\n",
      "\n",
      "   micro avg       0.68      0.68      0.68     36499\n",
      "   macro avg       0.63      0.63      0.63     36499\n",
      "weighted avg       0.67      0.68      0.67     36499\n",
      "\n"
     ]
    }
   ],
   "source": [
    "for i, j in zip(error_tfidf_1vr_title, range(1, len(error_tfidf_1vr_title)+1)):\n",
    "    print('Iteration Title {}'.format(j))\n",
    "    print(i['test_error']['report'])"
   ]
  },
  {
   "cell_type": "code",
   "execution_count": 33,
   "metadata": {
    "ExecuteTime": {
     "end_time": "2019-05-26T06:32:07.780861Z",
     "start_time": "2019-05-26T06:32:07.768912Z"
    }
   },
   "outputs": [
    {
     "data": {
      "text/html": [
       "<div>\n",
       "<style scoped>\n",
       "    .dataframe tbody tr th:only-of-type {\n",
       "        vertical-align: middle;\n",
       "    }\n",
       "\n",
       "    .dataframe tbody tr th {\n",
       "        vertical-align: top;\n",
       "    }\n",
       "\n",
       "    .dataframe thead th {\n",
       "        text-align: right;\n",
       "    }\n",
       "</style>\n",
       "<table border=\"1\" class=\"dataframe\">\n",
       "  <thead>\n",
       "    <tr style=\"text-align: right;\">\n",
       "      <th></th>\n",
       "      <th>Train Accuracy</th>\n",
       "      <th>Train F1 Score</th>\n",
       "      <th>Train Log Loss</th>\n",
       "      <th>Test Accuracy</th>\n",
       "      <th>Test F1 Score</th>\n",
       "      <th>Test Log Loss</th>\n",
       "    </tr>\n",
       "  </thead>\n",
       "  <tbody>\n",
       "    <tr>\n",
       "      <th>Iteration 1</th>\n",
       "      <td>0.789819</td>\n",
       "      <td>0.752737</td>\n",
       "      <td>0.576740</td>\n",
       "      <td>0.728904</td>\n",
       "      <td>0.678043</td>\n",
       "      <td>0.663187</td>\n",
       "    </tr>\n",
       "    <tr>\n",
       "      <th>Iteration 2</th>\n",
       "      <td>0.790703</td>\n",
       "      <td>0.754050</td>\n",
       "      <td>0.575722</td>\n",
       "      <td>0.728685</td>\n",
       "      <td>0.678092</td>\n",
       "      <td>0.664006</td>\n",
       "    </tr>\n",
       "    <tr>\n",
       "      <th>Iteration 3</th>\n",
       "      <td>0.789942</td>\n",
       "      <td>0.753556</td>\n",
       "      <td>0.576281</td>\n",
       "      <td>0.723973</td>\n",
       "      <td>0.672015</td>\n",
       "      <td>0.663668</td>\n",
       "    </tr>\n",
       "    <tr>\n",
       "      <th>Iteration 4</th>\n",
       "      <td>0.790978</td>\n",
       "      <td>0.754001</td>\n",
       "      <td>0.574538</td>\n",
       "      <td>0.724184</td>\n",
       "      <td>0.673995</td>\n",
       "      <td>0.670130</td>\n",
       "    </tr>\n",
       "    <tr>\n",
       "      <th>Iteration 5</th>\n",
       "      <td>0.790629</td>\n",
       "      <td>0.753761</td>\n",
       "      <td>0.573942</td>\n",
       "      <td>0.722924</td>\n",
       "      <td>0.672526</td>\n",
       "      <td>0.673029</td>\n",
       "    </tr>\n",
       "    <tr>\n",
       "      <th>Average</th>\n",
       "      <td>0.790414</td>\n",
       "      <td>0.753621</td>\n",
       "      <td>0.575445</td>\n",
       "      <td>0.725734</td>\n",
       "      <td>0.674934</td>\n",
       "      <td>0.666804</td>\n",
       "    </tr>\n",
       "  </tbody>\n",
       "</table>\n",
       "</div>"
      ],
      "text/plain": [
       "             Train Accuracy  Train F1 Score  Train Log Loss  Test Accuracy  \\\n",
       "Iteration 1        0.789819        0.752737        0.576740       0.728904   \n",
       "Iteration 2        0.790703        0.754050        0.575722       0.728685   \n",
       "Iteration 3        0.789942        0.753556        0.576281       0.723973   \n",
       "Iteration 4        0.790978        0.754001        0.574538       0.724184   \n",
       "Iteration 5        0.790629        0.753761        0.573942       0.722924   \n",
       "Average            0.790414        0.753621        0.575445       0.725734   \n",
       "\n",
       "             Test F1 Score  Test Log Loss  \n",
       "Iteration 1       0.678043       0.663187  \n",
       "Iteration 2       0.678092       0.664006  \n",
       "Iteration 3       0.672015       0.663668  \n",
       "Iteration 4       0.673995       0.670130  \n",
       "Iteration 5       0.672526       0.673029  \n",
       "Average           0.674934       0.666804  "
      ]
     },
     "execution_count": 33,
     "metadata": {},
     "output_type": "execute_result"
    }
   ],
   "source": [
    "create_df_kfold(error_tfidf_1vr_review)"
   ]
  },
  {
   "cell_type": "code",
   "execution_count": 30,
   "metadata": {
    "ExecuteTime": {
     "end_time": "2019-05-26T06:31:16.880774Z",
     "start_time": "2019-05-26T06:31:16.875802Z"
    }
   },
   "outputs": [
    {
     "name": "stdout",
     "output_type": "stream",
     "text": [
      "Iteration Review 1\n",
      "              precision    recall  f1-score   support\n",
      "\n",
      "    Negative       0.78      0.79      0.79     14715\n",
      "     Neutral       0.48      0.42      0.44      7294\n",
      "    Positive       0.79      0.82      0.80     14491\n",
      "\n",
      "   micro avg       0.73      0.73      0.73     36500\n",
      "   macro avg       0.68      0.68      0.68     36500\n",
      "weighted avg       0.72      0.73      0.72     36500\n",
      "\n",
      "Iteration Review 2\n",
      "              precision    recall  f1-score   support\n",
      "\n",
      "    Negative       0.77      0.79      0.78     14530\n",
      "     Neutral       0.48      0.42      0.45      7300\n",
      "    Positive       0.79      0.82      0.81     14670\n",
      "\n",
      "   micro avg       0.73      0.73      0.73     36500\n",
      "   macro avg       0.68      0.68      0.68     36500\n",
      "weighted avg       0.72      0.73      0.72     36500\n",
      "\n",
      "Iteration Review 3\n",
      "              precision    recall  f1-score   support\n",
      "\n",
      "    Negative       0.78      0.79      0.78     14597\n",
      "     Neutral       0.46      0.41      0.43      7241\n",
      "    Positive       0.79      0.81      0.80     14662\n",
      "\n",
      "   micro avg       0.72      0.72      0.72     36500\n",
      "   macro avg       0.67      0.67      0.67     36500\n",
      "weighted avg       0.72      0.72      0.72     36500\n",
      "\n",
      "Iteration Review 4\n",
      "              precision    recall  f1-score   support\n",
      "\n",
      "    Negative       0.77      0.79      0.78     14592\n",
      "     Neutral       0.47      0.42      0.44      7279\n",
      "    Positive       0.79      0.81      0.80     14628\n",
      "\n",
      "   micro avg       0.72      0.72      0.72     36499\n",
      "   macro avg       0.68      0.67      0.67     36499\n",
      "weighted avg       0.72      0.72      0.72     36499\n",
      "\n",
      "Iteration Review 5\n",
      "              precision    recall  f1-score   support\n",
      "\n",
      "    Negative       0.77      0.79      0.78     14565\n",
      "     Neutral       0.47      0.41      0.44      7385\n",
      "    Positive       0.78      0.81      0.80     14549\n",
      "\n",
      "   micro avg       0.72      0.72      0.72     36499\n",
      "   macro avg       0.67      0.67      0.67     36499\n",
      "weighted avg       0.72      0.72      0.72     36499\n",
      "\n"
     ]
    }
   ],
   "source": [
    "for i, j in zip(error_tfidf_1vr_review, range(1, len(error_tfidf_1vr_review)+1)):\n",
    "    print('Iteration Review {}'.format(j))\n",
    "    print(i['test_error']['report'])"
   ]
  },
  {
   "cell_type": "code",
   "execution_count": 15,
   "metadata": {
    "ExecuteTime": {
     "end_time": "2019-05-26T05:24:09.955618Z",
     "start_time": "2019-05-26T05:24:09.939627Z"
    }
   },
   "outputs": [
    {
     "data": {
      "text/html": [
       "<div>\n",
       "<style scoped>\n",
       "    .dataframe tbody tr th:only-of-type {\n",
       "        vertical-align: middle;\n",
       "    }\n",
       "\n",
       "    .dataframe tbody tr th {\n",
       "        vertical-align: top;\n",
       "    }\n",
       "\n",
       "    .dataframe thead th {\n",
       "        text-align: right;\n",
       "    }\n",
       "</style>\n",
       "<table border=\"1\" class=\"dataframe\">\n",
       "  <thead>\n",
       "    <tr style=\"text-align: right;\">\n",
       "      <th></th>\n",
       "      <th>Train Accuracy</th>\n",
       "      <th>Train F1 Score</th>\n",
       "      <th>Train Log Loss</th>\n",
       "      <th>Test Accuracy</th>\n",
       "      <th>Test F1 Score</th>\n",
       "      <th>Test Log Loss</th>\n",
       "    </tr>\n",
       "  </thead>\n",
       "  <tbody>\n",
       "    <tr>\n",
       "      <th>Iteration 1</th>\n",
       "      <td>0.787901</td>\n",
       "      <td>0.749653</td>\n",
       "      <td>0.579488</td>\n",
       "      <td>0.722493</td>\n",
       "      <td>0.671059</td>\n",
       "      <td>0.671306</td>\n",
       "    </tr>\n",
       "    <tr>\n",
       "      <th>Iteration 2</th>\n",
       "      <td>0.787305</td>\n",
       "      <td>0.749641</td>\n",
       "      <td>0.578965</td>\n",
       "      <td>0.723945</td>\n",
       "      <td>0.672054</td>\n",
       "      <td>0.674612</td>\n",
       "    </tr>\n",
       "    <tr>\n",
       "      <th>Iteration 3</th>\n",
       "      <td>0.787593</td>\n",
       "      <td>0.749371</td>\n",
       "      <td>0.579562</td>\n",
       "      <td>0.723068</td>\n",
       "      <td>0.671882</td>\n",
       "      <td>0.671551</td>\n",
       "    </tr>\n",
       "    <tr>\n",
       "      <th>Iteration 4</th>\n",
       "      <td>0.788471</td>\n",
       "      <td>0.751028</td>\n",
       "      <td>0.578704</td>\n",
       "      <td>0.721417</td>\n",
       "      <td>0.667104</td>\n",
       "      <td>0.673359</td>\n",
       "    </tr>\n",
       "    <tr>\n",
       "      <th>Iteration 5</th>\n",
       "      <td>0.787314</td>\n",
       "      <td>0.749792</td>\n",
       "      <td>0.580499</td>\n",
       "      <td>0.725910</td>\n",
       "      <td>0.672077</td>\n",
       "      <td>0.666505</td>\n",
       "    </tr>\n",
       "    <tr>\n",
       "      <th>Average</th>\n",
       "      <td>0.787717</td>\n",
       "      <td>0.749897</td>\n",
       "      <td>0.579444</td>\n",
       "      <td>0.723367</td>\n",
       "      <td>0.670835</td>\n",
       "      <td>0.671467</td>\n",
       "    </tr>\n",
       "  </tbody>\n",
       "</table>\n",
       "</div>"
      ],
      "text/plain": [
       "             Train Accuracy  Train F1 Score  Train Log Loss  Test Accuracy  \\\n",
       "Iteration 1        0.787901        0.749653        0.579488       0.722493   \n",
       "Iteration 2        0.787305        0.749641        0.578965       0.723945   \n",
       "Iteration 3        0.787593        0.749371        0.579562       0.723068   \n",
       "Iteration 4        0.788471        0.751028        0.578704       0.721417   \n",
       "Iteration 5        0.787314        0.749792        0.580499       0.725910   \n",
       "Average            0.787717        0.749897        0.579444       0.723367   \n",
       "\n",
       "             Test F1 Score  Test Log Loss  \n",
       "Iteration 1       0.671059       0.671306  \n",
       "Iteration 2       0.672054       0.674612  \n",
       "Iteration 3       0.671882       0.671551  \n",
       "Iteration 4       0.667104       0.673359  \n",
       "Iteration 5       0.672077       0.666505  \n",
       "Average           0.670835       0.671467  "
      ]
     },
     "execution_count": 15,
     "metadata": {},
     "output_type": "execute_result"
    }
   ],
   "source": [
    "create_df_kfold(error_tfidf_1vr_combination)"
   ]
  },
  {
   "cell_type": "code",
   "execution_count": 31,
   "metadata": {
    "ExecuteTime": {
     "end_time": "2019-05-26T06:31:28.436568Z",
     "start_time": "2019-05-26T06:31:28.430616Z"
    }
   },
   "outputs": [
    {
     "name": "stdout",
     "output_type": "stream",
     "text": [
      "Iteration Combination 1\n",
      "              precision    recall  f1-score   support\n",
      "\n",
      "    Negative       0.77      0.79      0.78     14516\n",
      "     Neutral       0.47      0.40      0.44      7414\n",
      "    Positive       0.78      0.82      0.80     14570\n",
      "\n",
      "   micro avg       0.72      0.72      0.72     36500\n",
      "   macro avg       0.67      0.67      0.67     36500\n",
      "weighted avg       0.71      0.72      0.72     36500\n",
      "\n",
      "Iteration Combination 2\n",
      "              precision    recall  f1-score   support\n",
      "\n",
      "    Negative       0.78      0.79      0.78     14594\n",
      "     Neutral       0.46      0.41      0.44      7241\n",
      "    Positive       0.78      0.81      0.80     14665\n",
      "\n",
      "   micro avg       0.72      0.72      0.72     36500\n",
      "   macro avg       0.67      0.67      0.67     36500\n",
      "weighted avg       0.72      0.72      0.72     36500\n",
      "\n",
      "Iteration Combination 3\n",
      "              precision    recall  f1-score   support\n",
      "\n",
      "    Negative       0.77      0.79      0.78     14566\n",
      "     Neutral       0.48      0.41      0.44      7388\n",
      "    Positive       0.78      0.82      0.80     14546\n",
      "\n",
      "   micro avg       0.72      0.72      0.72     36500\n",
      "   macro avg       0.68      0.67      0.67     36500\n",
      "weighted avg       0.71      0.72      0.72     36500\n",
      "\n",
      "Iteration Combination 4\n",
      "              precision    recall  f1-score   support\n",
      "\n",
      "    Negative       0.77      0.79      0.78     14651\n",
      "     Neutral       0.46      0.39      0.42      7282\n",
      "    Positive       0.78      0.82      0.80     14566\n",
      "\n",
      "   micro avg       0.72      0.72      0.72     36499\n",
      "   macro avg       0.67      0.67      0.67     36499\n",
      "weighted avg       0.71      0.72      0.72     36499\n",
      "\n",
      "Iteration Combination 5\n",
      "              precision    recall  f1-score   support\n",
      "\n",
      "    Negative       0.78      0.79      0.79     14672\n",
      "     Neutral       0.46      0.40      0.43      7174\n",
      "    Positive       0.78      0.82      0.80     14653\n",
      "\n",
      "   micro avg       0.73      0.73      0.73     36499\n",
      "   macro avg       0.67      0.67      0.67     36499\n",
      "weighted avg       0.72      0.73      0.72     36499\n",
      "\n"
     ]
    }
   ],
   "source": [
    "for i, j in zip(error_tfidf_1vr_combination, range(1, len(error_tfidf_1vr_combination)+1)):\n",
    "    print('Iteration Combination {}'.format(j))\n",
    "    print(i['test_error']['report'])"
   ]
  },
  {
   "cell_type": "code",
   "execution_count": 17,
   "metadata": {
    "ExecuteTime": {
     "end_time": "2019-05-26T05:26:45.335853Z",
     "start_time": "2019-05-26T05:24:09.968550Z"
    },
    "code_folding": [
     0
    ]
   },
   "outputs": [
    {
     "name": "stderr",
     "output_type": "stream",
     "text": [
      "C:\\Users\\MSI\\Anaconda3\\lib\\site-packages\\sklearn\\linear_model\\logistic.py:433: FutureWarning: Default solver will be changed to 'lbfgs' in 0.22. Specify a solver to silence this warning.\n",
      "  FutureWarning)\n"
     ]
    },
    {
     "data": {
      "image/png": "[encoded data removed]",
      "text/plain": [
       "<Figure size 432x288 with 1 Axes>"
      ]
     },
     "metadata": {
      "needs_background": "light"
     },
     "output_type": "display_data"
    },
    {
     "data": {
      "text/plain": [
       "[<matplotlib.lines.Line2D at 0x2c555cd0588>]"
      ]
     },
     "execution_count": 17,
     "metadata": {},
     "output_type": "execute_result"
    }
   ],
   "source": [
    "def learning_curve_1vr(series, name =''):\n",
    "    train_sizes, train_scores, test_scores = learning_curve(estimator=Pipeline([('bow', CountVectorizer(analyzer='word', \n",
    "                                                                                                    max_features =30000,\n",
    "                                                                                                    ngram_range=(1,2))),\n",
    "                                                                             ('tfidf', TfidfTransformer()),\n",
    "                                                                             ('classifier', model_1vR)]),\n",
    "                                                       X=series,\n",
    "                                                       y=sentiment,\n",
    "                                                       train_sizes=np.linspace(0.5, 1.0, 5),\n",
    "                                                       cv=5)\n",
    "\n",
    "    train_mean = np.mean(train_scores, axis=1)\n",
    "    train_std = np.std(train_scores, axis=1)\n",
    "    test_mean = np.mean(test_scores, axis=1)\n",
    "    test_std = np.std(test_scores, axis=1)\n",
    "\n",
    "    plot = plt.plot(train_sizes, train_mean, color='red', marker='o', label='Training Accuracy')\n",
    "    \n",
    "    plt.fill_between(train_sizes,\n",
    "                train_mean + train_std,\n",
    "                train_mean - train_std,\n",
    "                alpha=0.15, color='red')\n",
    "\n",
    "\n",
    "    plt.plot(train_sizes, test_mean, color='blue', linestyle='--', marker='s', \n",
    "        label='Test Accuracy')\n",
    "    plt.fill_between(train_sizes,\n",
    "                test_mean + test_std,\n",
    "                test_mean - test_std,\n",
    "                alpha=0.15, color='blue')\n",
    "\n",
    "    plt.title('TF-IDF {} LR'.format(name))\n",
    "    plt.xlabel('Number of training samples')\n",
    "    plt.ylabel('Accuracy')\n",
    "    plt.legend()\n",
    "    plt.show()\n",
    "    return plot\n",
    "learning_curve_1vr(title, name ='title')"
   ]
  },
  {
   "cell_type": "code",
   "execution_count": 18,
   "metadata": {
    "ExecuteTime": {
     "end_time": "2019-05-26T05:49:26.430884Z",
     "start_time": "2019-05-26T05:26:45.339842Z"
    }
   },
   "outputs": [
    {
     "name": "stderr",
     "output_type": "stream",
     "text": [
      "C:\\Users\\MSI\\Anaconda3\\lib\\site-packages\\sklearn\\linear_model\\logistic.py:433: FutureWarning: Default solver will be changed to 'lbfgs' in 0.22. Specify a solver to silence this warning.\n",
      "  FutureWarning)\n"
     ]
    },
    {
     "data": {
      "image/png": "[encoded data removed]",
      "text/plain": [
       "<Figure size 432x288 with 1 Axes>"
      ]
     },
     "metadata": {
      "needs_background": "light"
     },
     "output_type": "display_data"
    },
    {
     "data": {
      "text/plain": [
       "[<matplotlib.lines.Line2D at 0x2c55f4e0898>]"
      ]
     },
     "execution_count": 18,
     "metadata": {},
     "output_type": "execute_result"
    }
   ],
   "source": [
    "learning_curve_1vr(review, 'review')"
   ]
  },
  {
   "cell_type": "code",
   "execution_count": 19,
   "metadata": {
    "ExecuteTime": {
     "end_time": "2019-05-26T06:04:37.244397Z",
     "start_time": "2019-05-26T05:49:26.432881Z"
    }
   },
   "outputs": [
    {
     "name": "stderr",
     "output_type": "stream",
     "text": [
      "C:\\Users\\MSI\\Anaconda3\\lib\\site-packages\\sklearn\\linear_model\\logistic.py:433: FutureWarning: Default solver will be changed to 'lbfgs' in 0.22. Specify a solver to silence this warning.\n",
      "  FutureWarning)\n"
     ]
    },
    {
     "data": {
      "image/png": "[encoded data removed]",
      "text/plain": [
       "<Figure size 432x288 with 1 Axes>"
      ]
     },
     "metadata": {
      "needs_background": "light"
     },
     "output_type": "display_data"
    },
    {
     "data": {
      "text/plain": [
       "[<matplotlib.lines.Line2D at 0x2c56054ca90>]"
      ]
     },
     "execution_count": 19,
     "metadata": {},
     "output_type": "execute_result"
    }
   ],
   "source": [
    "learning_curve_1vr(combination, 'combination')"
   ]
  },
  {
   "cell_type": "code",
   "execution_count": 20,
   "metadata": {
    "ExecuteTime": {
     "end_time": "2019-05-26T06:05:04.805352Z",
     "start_time": "2019-05-26T06:04:37.245392Z"
    }
   },
   "outputs": [],
   "source": [
    "X_train, X_test, y_train, y_test = train_test_split(amazon['Combination'], amazon['Rating'], test_size = 0.2)\n",
    "cv = CountVectorizer(analyzer='word', max_features =30000, ngram_range=(1,2))\n",
    "X_train = cv.fit_transform(X_train)\n",
    "\n",
    "tfidf = TfidfTransformer()\n",
    "X_train = tfidf.fit_transform(X_train)\n"
   ]
  },
  {
   "cell_type": "markdown",
   "metadata": {},
   "source": [
    "## Trying Grid Search"
   ]
  },
  {
   "cell_type": "code",
   "execution_count": 21,
   "metadata": {
    "ExecuteTime": {
     "end_time": "2019-05-26T06:05:04.813721Z",
     "start_time": "2019-05-26T06:05:04.805352Z"
    }
   },
   "outputs": [],
   "source": [
    "param_solver = ['newton-cg', 'lbfgs', 'liblinear', 'sag', 'saga']\n",
    "param_iter = [100, 200, 300, 400, 500]\n",
    "param_grid = {'solver':param_solver, 'max_iter':param_iter}\n",
    "\n",
    "gs = GridSearchCV(model_1vR,param_grid,scoring='accuracy')"
   ]
  },
  {
   "cell_type": "code",
   "execution_count": 22,
   "metadata": {
    "ExecuteTime": {
     "end_time": "2019-05-26T06:23:02.268582Z",
     "start_time": "2019-05-26T06:05:04.816712Z"
    }
   },
   "outputs": [
    {
     "name": "stderr",
     "output_type": "stream",
     "text": [
      "C:\\Users\\MSI\\Anaconda3\\lib\\site-packages\\sklearn\\model_selection\\_split.py:2053: FutureWarning: You should specify a value for 'cv' instead of relying on the default value. The default value will change from 3 to 5 in version 0.22.\n",
      "  warnings.warn(CV_WARNING, FutureWarning)\n",
      "C:\\Users\\MSI\\Anaconda3\\lib\\site-packages\\sklearn\\linear_model\\logistic.py:758: ConvergenceWarning: lbfgs failed to converge. Increase the number of iterations.\n",
      "  \"of iterations.\", ConvergenceWarning)\n",
      "C:\\Users\\MSI\\Anaconda3\\lib\\site-packages\\sklearn\\linear_model\\logistic.py:758: ConvergenceWarning: lbfgs failed to converge. Increase the number of iterations.\n",
      "  \"of iterations.\", ConvergenceWarning)\n",
      "C:\\Users\\MSI\\Anaconda3\\lib\\site-packages\\sklearn\\linear_model\\logistic.py:758: ConvergenceWarning: lbfgs failed to converge. Increase the number of iterations.\n",
      "  \"of iterations.\", ConvergenceWarning)\n",
      "C:\\Users\\MSI\\Anaconda3\\lib\\site-packages\\sklearn\\linear_model\\logistic.py:758: ConvergenceWarning: lbfgs failed to converge. Increase the number of iterations.\n",
      "  \"of iterations.\", ConvergenceWarning)\n",
      "C:\\Users\\MSI\\Anaconda3\\lib\\site-packages\\sklearn\\linear_model\\logistic.py:758: ConvergenceWarning: lbfgs failed to converge. Increase the number of iterations.\n",
      "  \"of iterations.\", ConvergenceWarning)\n",
      "C:\\Users\\MSI\\Anaconda3\\lib\\site-packages\\sklearn\\linear_model\\logistic.py:758: ConvergenceWarning: lbfgs failed to converge. Increase the number of iterations.\n",
      "  \"of iterations.\", ConvergenceWarning)\n"
     ]
    }
   ],
   "source": [
    "gs = gs.fit(X_train, y_train)"
   ]
  },
  {
   "cell_type": "code",
   "execution_count": 23,
   "metadata": {
    "ExecuteTime": {
     "end_time": "2019-05-26T06:23:02.279590Z",
     "start_time": "2019-05-26T06:23:02.271575Z"
    }
   },
   "outputs": [
    {
     "data": {
      "text/plain": [
       "{'max_iter': 100, 'solver': 'liblinear'}"
      ]
     },
     "execution_count": 23,
     "metadata": {},
     "output_type": "execute_result"
    }
   ],
   "source": [
    "gs.best_params_"
   ]
  },
  {
   "cell_type": "code",
   "execution_count": 24,
   "metadata": {
    "ExecuteTime": {
     "end_time": "2019-05-26T06:23:02.297571Z",
     "start_time": "2019-05-26T06:23:02.284099Z"
    }
   },
   "outputs": [
    {
     "data": {
      "text/plain": [
       "0.5157399416430362"
      ]
     },
     "execution_count": 24,
     "metadata": {},
     "output_type": "execute_result"
    }
   ],
   "source": [
    "gs.best_score_"
   ]
  },
  {
   "cell_type": "code",
   "execution_count": 61,
   "metadata": {
    "ExecuteTime": {
     "end_time": "2019-05-26T08:28:31.535083Z",
     "start_time": "2019-05-26T08:27:58.988813Z"
    }
   },
   "outputs": [
    {
     "name": "stderr",
     "output_type": "stream",
     "text": [
      "C:\\Users\\MSI\\Anaconda3\\lib\\site-packages\\sklearn\\linear_model\\logistic.py:433: FutureWarning: Default solver will be changed to 'lbfgs' in 0.22. Specify a solver to silence this warning.\n",
      "  FutureWarning)\n"
     ]
    },
    {
     "data": {
      "text/plain": [
       "Pipeline(memory=None,\n",
       "     steps=[('bow', CountVectorizer(analyzer=<function meaningful_word_specific at 0x000002C5516EDD08>,\n",
       "        binary=False, decode_error='strict', dtype=<class 'numpy.int64'>,\n",
       "        encoding='utf-8', input='content', lowercase=True, max_df=1.0,\n",
       "        max_features=30000, min_df=1, ngram_range=(1, 2)...penalty='l2', random_state=None,\n",
       "          solver='warn', tol=0.0001, verbose=0, warm_start=False))])"
      ]
     },
     "execution_count": 61,
     "metadata": {},
     "output_type": "execute_result"
    }
   ],
   "source": [
    "pipeline_title = Pipeline([('bow', CountVectorizer(analyzer=meaningful_word_specific, max_features =30000, ngram_range=(1,2))),\n",
    "                         ('tfidf', TfidfTransformer()),\n",
    "                         ('classifier', model_1vR)])\n",
    "pipeline_review = Pipeline([('bow', CountVectorizer(analyzer=meaningful_word_specific, max_features =30000, ngram_range=(1,2))),\n",
    "                         ('tfidf', TfidfTransformer()),\n",
    "                         ('classifier', model_1vR)])\n",
    "pipeline_combination = Pipeline([('bow', CountVectorizer(analyzer=meaningful_word_specific, max_features =30000, ngram_range=(1,2))),\n",
    "                         ('tfidf', TfidfTransformer()),\n",
    "                         ('classifier', model_1vR)])\n",
    "\n",
    "pipeline_title.fit(amazon['Title_meaningful'], amazon['Sentiment'])\n",
    "pipeline_review.fit(amazon['Review_meaningful'], amazon['Sentiment'])\n",
    "pipeline_combination.fit(amazon['Review_meaningful'], amazon['Sentiment'])"
   ]
  },
  {
   "cell_type": "code",
   "execution_count": 62,
   "metadata": {
    "ExecuteTime": {
     "end_time": "2019-05-26T08:30:32.799109Z",
     "start_time": "2019-05-26T08:30:32.777189Z"
    }
   },
   "outputs": [],
   "source": [
    "import pickle\n",
    "pickle.dump(pipeline_title, open('model_predict_amazon_title.sav', 'wb'))\n",
    "pickle.dump(pipeline_review, open('model_predict_amazon_review.sav', 'wb'))\n",
    "pickle.dump(pipeline_combination, open('model_predict_amazon_combination.sav', 'wb'))"
   ]
  },
  {
   "cell_type": "code",
   "execution_count": 69,
   "metadata": {
    "ExecuteTime": {
     "end_time": "2019-05-26T09:30:11.559154Z",
     "start_time": "2019-05-26T09:30:11.553172Z"
    }
   },
   "outputs": [
    {
     "data": {
      "text/plain": [
       "array([[0.11366939, 0.2443922 , 0.64193841]])"
      ]
     },
     "execution_count": 69,
     "metadata": {},
     "output_type": "execute_result"
    }
   ],
   "source": [
    "pipeline_title.predict_proba(['Nothing'])"
   ]
  },
  {
   "cell_type": "code",
   "execution_count": 70,
   "metadata": {
    "ExecuteTime": {
     "end_time": "2019-05-26T10:17:01.001153Z",
     "start_time": "2019-05-26T10:17:00.967252Z"
    }
   },
   "outputs": [
    {
     "data": {
      "text/plain": [
       "array(['Negative', 'Neutral', 'Positive'], dtype=object)"
      ]
     },
     "execution_count": 70,
     "metadata": {},
     "output_type": "execute_result"
    }
   ],
   "source": [
    "amazon['Sentiment'].unique()"
   ]
  },
  {
   "cell_type": "code",
   "execution_count": null,
   "metadata": {},
   "outputs": [],
   "source": []
  }
 ],
 "metadata": {
  "hide_input": false,
  "kernelspec": {
   "display_name": "Python 3",
   "language": "python",
   "name": "python3"
  },
  "language_info": {
   "codemirror_mode": {
    "name": "ipython",
    "version": 3
   },
   "file_extension": ".py",
   "mimetype": "text/x-python",
   "name": "python",
   "nbconvert_exporter": "python",
   "pygments_lexer": "ipython3",
   "version": "3.7.1"
  },
  "varInspector": {
   "cols": {
    "lenName": 16,
    "lenType": 16,
    "lenVar": 40
   },
   "kernels_config": {
    "python": {
     "delete_cmd_postfix": "",
     "delete_cmd_prefix": "del ",
     "library": "var_list.py",
     "varRefreshCmd": "print(var_dic_list())"
    },
    "r": {
     "delete_cmd_postfix": ") ",
     "delete_cmd_prefix": "rm(",
     "library": "var_list.r",
     "varRefreshCmd": "cat(var_dic_list()) "
    }
   },
   "types_to_exclude": [
    "module",
    "function",
    "builtin_function_or_method",
    "instance",
    "_Feature"
   ],
   "window_display": false
  }
 },
 "nbformat": 4,
 "nbformat_minor": 2
}
